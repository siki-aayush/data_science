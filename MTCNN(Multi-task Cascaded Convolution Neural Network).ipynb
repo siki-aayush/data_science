{
 "cells": [
  {
   "cell_type": "code",
   "execution_count": 1,
   "metadata": {},
   "outputs": [],
   "source": [
    "from mtcnn import MTCNN\n",
    "import cv2\n",
    "from PIL import Image\n",
    "import matplotlib.pyplot as plt\n",
    "import numpy as np"
   ]
  },
  {
   "cell_type": "code",
   "execution_count": 2,
   "metadata": {},
   "outputs": [],
   "source": [
    "%matplotlib inline"
   ]
  },
  {
   "cell_type": "code",
   "execution_count": 3,
   "metadata": {
    "scrolled": true
   },
   "outputs": [],
   "source": [
    "detector = MTCNN()\n",
    "# img = cv2.cvtColor(cv2.imread('DATA/person.jpeg'), cv2.COLOR_BGR2RGB)\n",
    "# box = detector.detect_faces(img)\n",
    "# print(box)"
   ]
  },
  {
   "cell_type": "code",
   "execution_count": 4,
   "metadata": {},
   "outputs": [],
   "source": [
    "from tensorflow.keras.models import load_model"
   ]
  },
  {
   "cell_type": "code",
   "execution_count": 5,
   "metadata": {},
   "outputs": [
    {
     "name": "stdout",
     "output_type": "stream",
     "text": [
      "Model: \"sequential_1\"\n",
      "_________________________________________________________________\n",
      "Layer (type)                 Output Shape              Param #   \n",
      "=================================================================\n",
      "vgg16 (Model)                (None, 3, 3, 512)         14714688  \n",
      "_________________________________________________________________\n",
      "sequential (Sequential)      (None, 1)                 2330071   \n",
      "=================================================================\n",
      "Total params: 17,044,759\n",
      "Trainable params: 2,330,071\n",
      "Non-trainable params: 14,714,688\n",
      "_________________________________________________________________\n"
     ]
    }
   ],
   "source": [
    "new_model = load_model('big__data/facemask.h5')\n",
    "new_model.summary()"
   ]
  },
  {
   "cell_type": "code",
   "execution_count": 7,
   "metadata": {},
   "outputs": [],
   "source": [
    "# img = cv2.resize(img, (100, 100))\n",
    "# new_model.predict(np.reshape(img, (-1, 100, 100, 3)))"
   ]
  },
  {
   "cell_type": "code",
   "execution_count": 8,
   "metadata": {},
   "outputs": [],
   "source": [
    "def drawBox(img, box):\n",
    "    rectangle = box[0]['box']\n",
    "    print('rectangle -> {}'.format(box))\n",
    "    predict = cv2.rectangle(img, (rectangle[0], rectangle[1]), (rectangle[0]+rectangle[2], rectangle[1]+rectangle[3]), (0, 255, 0), 2)\n",
    "    return predict\n",
    "\n",
    "def detectImage(img, box):\n",
    "    rectangle = box[0]['box']\n",
    "    x1 = rectangle[0]\n",
    "    y1 = rectangle[1]\n",
    "    x2 = x1 + rectangle[2]\n",
    "    y2 = y1 + rectangle[3]\n",
    "\n",
    "    crop_img = img[y1:y2, x1:x2]\n",
    "    if crop_img == []:\n",
    "        return False\n",
    "    crop_img = cv2.resize(crop_img, (100, 100))\n",
    "    crop_img = np.reshape(crop_img, (-1, 100, 100, 3))\n",
    "    if new_model.predict(crop_img) > 0.5:\n",
    "        return True\n",
    "    else:\n",
    "        return False"
   ]
  },
  {
   "cell_type": "code",
   "execution_count": 11,
   "metadata": {},
   "outputs": [
    {
     "name": "stdout",
     "output_type": "stream",
     "text": [
      "rectangle -> [{'box': [421, 140, 176, 213], 'confidence': 0.9481995701789856, 'keypoints': {'left_eye': (470, 216), 'right_eye': (549, 207), 'nose': (511, 257), 'mouth_left': (484, 311), 'mouth_right': (549, 304)}}]\n"
     ]
    },
    {
     "name": "stderr",
     "output_type": "stream",
     "text": [
      "<ipython-input-8-97b6447961c3>:15: DeprecationWarning: elementwise comparison failed; this will raise an error in the future.\n",
      "  if crop_img == []:\n"
     ]
    },
    {
     "name": "stdout",
     "output_type": "stream",
     "text": [
      "rectangle -> [{'box': [353, 173, 162, 200], 'confidence': 0.8790559768676758, 'keypoints': {'left_eye': (403, 244), 'right_eye': (477, 239), 'nose': (445, 284), 'mouth_left': (415, 333), 'mouth_right': (477, 329)}}]\n",
      "rectangle -> [{'box': [315, 188, 164, 199], 'confidence': 0.9225276112556458, 'keypoints': {'left_eye': (363, 260), 'right_eye': (437, 254), 'nose': (404, 298), 'mouth_left': (376, 347), 'mouth_right': (436, 343)}}]\n",
      "rectangle -> [{'box': [299, 184, 169, 209], 'confidence': 0.9491603374481201, 'keypoints': {'left_eye': (351, 266), 'right_eye': (429, 258), 'nose': (398, 307), 'mouth_left': (368, 355), 'mouth_right': (432, 349)}}]\n",
      "rectangle -> [{'box': [298, 180, 174, 212], 'confidence': 0.9607957601547241, 'keypoints': {'left_eye': (352, 266), 'right_eye': (431, 255), 'nose': (400, 306), 'mouth_left': (372, 354), 'mouth_right': (435, 347)}}, {'box': [17, 239, 158, 197], 'confidence': 0.9516807198524475, 'keypoints': {'left_eye': (81, 312), 'right_eye': (154, 332), 'nose': (111, 357), 'mouth_left': (62, 386), 'mouth_right': (126, 404)}}]\n",
      "rectangle -> [{'box': [121, 258, 166, 204], 'confidence': 0.9952630996704102, 'keypoints': {'left_eye': (178, 328), 'right_eye': (257, 343), 'nose': (212, 374), 'mouth_left': (165, 410), 'mouth_right': (236, 424)}}, {'box': [346, 184, 164, 199], 'confidence': 0.8691471815109253, 'keypoints': {'left_eye': (399, 264), 'right_eye': (474, 254), 'nose': (449, 301), 'mouth_left': (419, 350), 'mouth_right': (479, 341)}}]\n",
      "rectangle -> [{'box': [223, 298, 161, 198], 'confidence': 0.9811336398124695, 'keypoints': {'left_eye': (278, 367), 'right_eye': (355, 385), 'nose': (306, 414), 'mouth_left': (261, 447), 'mouth_right': (328, 465)}}, {'box': [405, 195, 162, 197], 'confidence': 0.9144427180290222, 'keypoints': {'left_eye': (450, 269), 'right_eye': (520, 258), 'nose': (490, 306), 'mouth_left': (469, 356), 'mouth_right': (526, 348)}}]\n",
      "rectangle -> [{'box': [285, 309, 159, 198], 'confidence': 0.9936944842338562, 'keypoints': {'left_eye': (341, 377), 'right_eye': (413, 400), 'nose': (367, 424), 'mouth_left': (322, 456), 'mouth_right': (384, 477)}}]\n",
      "rectangle -> [{'box': [318, 303, 166, 203], 'confidence': 0.9980019927024841, 'keypoints': {'left_eye': (374, 371), 'right_eye': (450, 391), 'nose': (400, 418), 'mouth_left': (357, 453), 'mouth_right': (422, 473)}}]\n",
      "rectangle -> [{'box': [413, 279, 182, 225], 'confidence': 0.9982463121414185, 'keypoints': {'left_eye': (471, 355), 'right_eye': (554, 375), 'nose': (498, 409), 'mouth_left': (454, 447), 'mouth_right': (523, 466)}}]\n",
      "rectangle -> [{'box': [418, 303, 176, 211], 'confidence': 0.99814772605896, 'keypoints': {'left_eye': (475, 375), 'right_eye': (556, 394), 'nose': (502, 424), 'mouth_left': (459, 463), 'mouth_right': (527, 481)}}]\n",
      "rectangle -> [{'box': [424, 273, 175, 218], 'confidence': 0.9993322491645813, 'keypoints': {'left_eye': (481, 348), 'right_eye': (562, 368), 'nose': (509, 402), 'mouth_left': (464, 436), 'mouth_right': (535, 455)}}]\n",
      "rectangle -> [{'box': [386, 258, 164, 203], 'confidence': 0.9998331069946289, 'keypoints': {'left_eye': (432, 332), 'right_eye': (510, 340), 'nose': (463, 375), 'mouth_left': (427, 412), 'mouth_right': (495, 420)}}]\n",
      "rectangle -> [{'box': [320, 231, 156, 194], 'confidence': 0.999894380569458, 'keypoints': {'left_eye': (365, 304), 'right_eye': (441, 304), 'nose': (400, 344), 'mouth_left': (369, 382), 'mouth_right': (435, 384)}}]\n",
      "rectangle -> [{'box': [285, 134, 173, 215], 'confidence': 0.9996480941772461, 'keypoints': {'left_eye': (336, 211), 'right_eye': (420, 221), 'nose': (370, 259), 'mouth_left': (331, 300), 'mouth_right': (403, 310)}}]\n",
      "rectangle -> [{'box': [300, 1, 207, 262], 'confidence': 0.9788186550140381, 'keypoints': {'left_eye': (368, 97), 'right_eye': (469, 112), 'nose': (410, 153), 'mouth_left': (358, 202), 'mouth_right': (446, 217)}}]\n",
      "rectangle -> [{'box': [304, 8, 162, 204], 'confidence': 0.9992295503616333, 'keypoints': {'left_eye': (346, 83), 'right_eye': (422, 87), 'nose': (374, 122), 'mouth_left': (342, 162), 'mouth_right': (411, 167)}}]\n",
      "rectangle -> [{'box': [332, 41, 148, 181], 'confidence': 0.9997870326042175, 'keypoints': {'left_eye': (370, 106), 'right_eye': (439, 109), 'nose': (395, 138), 'mouth_left': (367, 177), 'mouth_right': (429, 181)}}]\n",
      "rectangle -> [{'box': [335, 45, 150, 189], 'confidence': 0.9998623132705688, 'keypoints': {'left_eye': (379, 115), 'right_eye': (449, 120), 'nose': (408, 155), 'mouth_left': (379, 192), 'mouth_right': (438, 196)}}]\n",
      "rectangle -> [{'box': [341, 61, 143, 178], 'confidence': 0.9998300075531006, 'keypoints': {'left_eye': (376, 126), 'right_eye': (442, 128), 'nose': (400, 159), 'mouth_left': (375, 196), 'mouth_right': (435, 198)}}]\n",
      "rectangle -> [{'box': [340, 67, 141, 177], 'confidence': 0.9998985528945923, 'keypoints': {'left_eye': (374, 133), 'right_eye': (440, 133), 'nose': (398, 165), 'mouth_left': (374, 204), 'mouth_right': (432, 205)}}]\n",
      "rectangle -> [{'box': [326, 95, 142, 180], 'confidence': 0.9993547797203064, 'keypoints': {'left_eye': (365, 163), 'right_eye': (431, 166), 'nose': (391, 200), 'mouth_left': (366, 236), 'mouth_right': (423, 239)}}]\n",
      "rectangle -> [{'box': [325, 135, 133, 171], 'confidence': 0.9992738366127014, 'keypoints': {'left_eye': (356, 200), 'right_eye': (419, 201), 'nose': (378, 230), 'mouth_left': (355, 267), 'mouth_right': (411, 269)}}]\n",
      "rectangle -> [{'box': [314, 149, 129, 162], 'confidence': 0.9998934268951416, 'keypoints': {'left_eye': (347, 208), 'right_eye': (409, 209), 'nose': (372, 239), 'mouth_left': (350, 275), 'mouth_right': (401, 277)}}]\n",
      "rectangle -> [{'box': [301, 147, 135, 169], 'confidence': 0.9997138381004333, 'keypoints': {'left_eye': (341, 210), 'right_eye': (402, 212), 'nose': (366, 244), 'mouth_left': (342, 279), 'mouth_right': (394, 281)}}]\n",
      "rectangle -> [{'box': [305, 150, 132, 166], 'confidence': 0.9998013377189636, 'keypoints': {'left_eye': (338, 211), 'right_eye': (400, 211), 'nose': (364, 242), 'mouth_left': (337, 272), 'mouth_right': (398, 274)}}]\n",
      "rectangle -> [{'box': [306, 149, 135, 168], 'confidence': 0.9996070265769958, 'keypoints': {'left_eye': (340, 211), 'right_eye': (400, 211), 'nose': (365, 246), 'mouth_left': (344, 278), 'mouth_right': (396, 279)}}]\n",
      "rectangle -> [{'box': [302, 146, 138, 173], 'confidence': 0.9997037053108215, 'keypoints': {'left_eye': (338, 209), 'right_eye': (400, 211), 'nose': (364, 246), 'mouth_left': (341, 278), 'mouth_right': (396, 281)}}]\n",
      "rectangle -> [{'box': [303, 146, 138, 173], 'confidence': 0.999565064907074, 'keypoints': {'left_eye': (339, 210), 'right_eye': (400, 211), 'nose': (364, 246), 'mouth_left': (342, 278), 'mouth_right': (396, 280)}}]\n",
      "rectangle -> [{'box': [304, 148, 135, 171], 'confidence': 0.9998182654380798, 'keypoints': {'left_eye': (340, 210), 'right_eye': (401, 211), 'nose': (366, 246), 'mouth_left': (343, 279), 'mouth_right': (395, 280)}}]\n",
      "rectangle -> [{'box': [308, 154, 130, 164], 'confidence': 0.9995554089546204, 'keypoints': {'left_eye': (341, 214), 'right_eye': (401, 214), 'nose': (364, 244), 'mouth_left': (341, 278), 'mouth_right': (396, 280)}}]\n",
      "rectangle -> [{'box': [303, 137, 133, 173], 'confidence': 0.9998196959495544, 'keypoints': {'left_eye': (340, 208), 'right_eye': (401, 212), 'nose': (364, 243), 'mouth_left': (340, 272), 'mouth_right': (392, 277)}}]\n",
      "rectangle -> [{'box': [302, 149, 136, 169], 'confidence': 0.9996178150177002, 'keypoints': {'left_eye': (340, 211), 'right_eye': (402, 214), 'nose': (365, 246), 'mouth_left': (342, 281), 'mouth_right': (395, 283)}}]\n",
      "rectangle -> [{'box': [304, 148, 136, 171], 'confidence': 0.9993841648101807, 'keypoints': {'left_eye': (340, 212), 'right_eye': (402, 213), 'nose': (365, 245), 'mouth_left': (343, 281), 'mouth_right': (394, 282)}}]\n",
      "rectangle -> [{'box': [304, 148, 136, 170], 'confidence': 0.9996080994606018, 'keypoints': {'left_eye': (341, 212), 'right_eye': (402, 213), 'nose': (366, 245), 'mouth_left': (343, 281), 'mouth_right': (394, 282)}}]\n",
      "rectangle -> [{'box': [304, 148, 134, 168], 'confidence': 0.9997199177742004, 'keypoints': {'left_eye': (341, 211), 'right_eye': (402, 213), 'nose': (366, 245), 'mouth_left': (343, 279), 'mouth_right': (394, 281)}}]\n",
      "rectangle -> [{'box': [305, 149, 132, 165], 'confidence': 0.9998373985290527, 'keypoints': {'left_eye': (341, 209), 'right_eye': (402, 212), 'nose': (366, 243), 'mouth_left': (344, 278), 'mouth_right': (395, 280)}}]\n"
     ]
    },
    {
     "name": "stdout",
     "output_type": "stream",
     "text": [
      "rectangle -> [{'box': [313, 141, 130, 163], 'confidence': 0.9998018145561218, 'keypoints': {'left_eye': (345, 203), 'right_eye': (405, 203), 'nose': (368, 231), 'mouth_left': (344, 266), 'mouth_right': (399, 268)}}]\n",
      "rectangle -> [{'box': [249, 132, 128, 164], 'confidence': 0.9988186955451965, 'keypoints': {'left_eye': (272, 197), 'right_eye': (326, 192), 'nose': (287, 225), 'mouth_left': (276, 264), 'mouth_right': (322, 262)}}]\n",
      "rectangle -> [{'box': [459, 144, 174, 208], 'confidence': 0.9845961928367615, 'keypoints': {'left_eye': (509, 224), 'right_eye': (589, 212), 'nose': (558, 265), 'mouth_left': (532, 308), 'mouth_right': (601, 298)}}]\n",
      "rectangle -> [{'box': [441, 143, 167, 198], 'confidence': 0.9946863651275635, 'keypoints': {'left_eye': (487, 220), 'right_eye': (562, 215), 'nose': (525, 263), 'mouth_left': (501, 300), 'mouth_right': (566, 295)}}]\n",
      "rectangle -> [{'box': [443, 144, 165, 197], 'confidence': 0.9936497807502747, 'keypoints': {'left_eye': (488, 222), 'right_eye': (562, 217), 'nose': (527, 263), 'mouth_left': (503, 301), 'mouth_right': (566, 296)}}]\n",
      "rectangle -> [{'box': [451, 148, 167, 203], 'confidence': 0.9931856393814087, 'keypoints': {'left_eye': (494, 229), 'right_eye': (570, 219), 'nose': (537, 270), 'mouth_left': (513, 312), 'mouth_right': (576, 306)}}]\n",
      "rectangle -> [{'box': [452, 149, 165, 200], 'confidence': 0.997844934463501, 'keypoints': {'left_eye': (495, 228), 'right_eye': (570, 218), 'nose': (538, 270), 'mouth_left': (513, 312), 'mouth_right': (576, 304)}}]\n",
      "rectangle -> [{'box': [452, 146, 171, 205], 'confidence': 0.9983044862747192, 'keypoints': {'left_eye': (496, 227), 'right_eye': (574, 218), 'nose': (539, 271), 'mouth_left': (514, 313), 'mouth_right': (580, 305)}}]\n",
      "rectangle -> [{'box': [450, 151, 161, 193], 'confidence': 0.998689591884613, 'keypoints': {'left_eye': (499, 229), 'right_eye': (572, 222), 'nose': (541, 269), 'mouth_left': (515, 308), 'mouth_right': (577, 302)}}]\n",
      "rectangle -> [{'box': [455, 145, 167, 201], 'confidence': 0.9965391159057617, 'keypoints': {'left_eye': (504, 224), 'right_eye': (582, 219), 'nose': (548, 268), 'mouth_left': (520, 306), 'mouth_right': (584, 302)}}]\n",
      "rectangle -> [{'box': [458, 145, 168, 202], 'confidence': 0.9977586269378662, 'keypoints': {'left_eye': (507, 224), 'right_eye': (584, 218), 'nose': (551, 267), 'mouth_left': (523, 307), 'mouth_right': (587, 303)}}]\n",
      "rectangle -> [{'box': [88, 165, 113, 134], 'confidence': 0.9999127388000488, 'keypoints': {'left_eye': (119, 211), 'right_eye': (171, 215), 'nose': (139, 235), 'mouth_left': (117, 263), 'mouth_right': (163, 269)}}, {'box': [455, 149, 167, 196], 'confidence': 0.9985114932060242, 'keypoints': {'left_eye': (505, 227), 'right_eye': (582, 221), 'nose': (547, 269), 'mouth_left': (519, 308), 'mouth_right': (584, 303)}}]\n",
      "rectangle -> [{'box': [146, 166, 101, 119], 'confidence': 0.995573878288269, 'keypoints': {'left_eye': (172, 208), 'right_eye': (219, 213), 'nose': (188, 230), 'mouth_left': (167, 253), 'mouth_right': (211, 259)}}, {'box': [472, 133, 175, 214], 'confidence': 0.9878759384155273, 'keypoints': {'left_eye': (526, 214), 'right_eye': (606, 204), 'nose': (574, 259), 'mouth_left': (547, 302), 'mouth_right': (618, 294)}}]\n",
      "rectangle -> [{'box': [280, 163, 103, 122], 'confidence': 0.9989467263221741, 'keypoints': {'left_eye': (309, 208), 'right_eye': (358, 209), 'nose': (330, 228), 'mouth_left': (308, 256), 'mouth_right': (352, 259)}}]\n",
      "rectangle -> [{'box': [393, 159, 109, 132], 'confidence': 0.999809205532074, 'keypoints': {'left_eye': (421, 207), 'right_eye': (472, 209), 'nose': (440, 230), 'mouth_left': (421, 259), 'mouth_right': (465, 262)}}]\n",
      "rectangle -> [{'box': [408, 148, 117, 145], 'confidence': 0.9814609885215759, 'keypoints': {'left_eye': (443, 202), 'right_eye': (497, 206), 'nose': (463, 227), 'mouth_left': (439, 259), 'mouth_right': (487, 264)}}]\n",
      "rectangle -> [{'box': [411, 149, 111, 136], 'confidence': 0.9807242155075073, 'keypoints': {'left_eye': (444, 202), 'right_eye': (496, 205), 'nose': (463, 226), 'mouth_left': (440, 253), 'mouth_right': (484, 258)}}]\n",
      "rectangle -> [{'box': [409, 162, 111, 133], 'confidence': 0.9990934133529663, 'keypoints': {'left_eye': (438, 212), 'right_eye': (489, 211), 'nose': (457, 235), 'mouth_left': (439, 266), 'mouth_right': (483, 267)}}]\n",
      "rectangle -> [{'box': [402, 158, 111, 134], 'confidence': 0.9999500513076782, 'keypoints': {'left_eye': (429, 208), 'right_eye': (481, 207), 'nose': (450, 231), 'mouth_left': (432, 261), 'mouth_right': (476, 261)}}]\n",
      "rectangle -> [{'box': [387, 154, 113, 137], 'confidence': 0.9998465776443481, 'keypoints': {'left_eye': (416, 206), 'right_eye': (469, 204), 'nose': (439, 231), 'mouth_left': (421, 259), 'mouth_right': (466, 259)}}]\n",
      "rectangle -> [{'box': [386, 162, 111, 136], 'confidence': 0.9995841383934021, 'keypoints': {'left_eye': (418, 212), 'right_eye': (470, 210), 'nose': (443, 237), 'mouth_left': (424, 267), 'mouth_right': (469, 266)}}]\n",
      "rectangle -> [{'box': [386, 154, 114, 135], 'confidence': 0.9936549663543701, 'keypoints': {'left_eye': (416, 207), 'right_eye': (468, 202), 'nose': (440, 224), 'mouth_left': (425, 265), 'mouth_right': (466, 259)}}]\n",
      "rectangle -> [{'box': [391, 147, 110, 135], 'confidence': 0.9775556325912476, 'keypoints': {'left_eye': (419, 199), 'right_eye': (471, 199), 'nose': (439, 222), 'mouth_left': (422, 255), 'mouth_right': (466, 255)}}]\n",
      "rectangle -> [{'box': [390, 147, 118, 141], 'confidence': 0.9873263239860535, 'keypoints': {'left_eye': (421, 202), 'right_eye': (476, 200), 'nose': (443, 225), 'mouth_left': (427, 265), 'mouth_right': (472, 263)}}]\n",
      "rectangle -> [{'box': [363, 127, 123, 161], 'confidence': 0.8779892921447754, 'keypoints': {'left_eye': (401, 193), 'right_eye': (461, 193), 'nose': (431, 228), 'mouth_left': (405, 264), 'mouth_right': (453, 264)}}]\n",
      "rectangle -> [{'box': [351, 87, 136, 172], 'confidence': 0.9860899448394775, 'keypoints': {'left_eye': (391, 164), 'right_eye': (450, 161), 'nose': (418, 196), 'mouth_left': (396, 226), 'mouth_right': (446, 226)}}]\n",
      "rectangle -> [{'box': [357, 120, 116, 142], 'confidence': 0.7996065020561218, 'keypoints': {'left_eye': (392, 174), 'right_eye': (447, 173), 'nose': (418, 206), 'mouth_left': (397, 235), 'mouth_right': (442, 235)}}]\n",
      "rectangle -> [{'box': [344, 119, 127, 154], 'confidence': 0.9933857321739197, 'keypoints': {'left_eye': (379, 179), 'right_eye': (438, 175), 'nose': (409, 212), 'mouth_left': (390, 245), 'mouth_right': (439, 242)}}]\n",
      "rectangle -> [{'box': [356, 119, 119, 145], 'confidence': 0.747718095779419, 'keypoints': {'left_eye': (396, 173), 'right_eye': (451, 173), 'nose': (425, 205), 'mouth_left': (400, 234), 'mouth_right': (446, 234)}}]\n",
      "rectangle -> [{'box': [354, 119, 120, 148], 'confidence': 0.8378562331199646, 'keypoints': {'left_eye': (391, 174), 'right_eye': (447, 174), 'nose': (419, 206), 'mouth_left': (395, 238), 'mouth_right': (443, 237)}}]\n",
      "rectangle -> [{'box': [360, 123, 116, 141], 'confidence': 0.7991911172866821, 'keypoints': {'left_eye': (395, 175), 'right_eye': (449, 174), 'nose': (422, 207), 'mouth_left': (400, 236), 'mouth_right': (445, 235)}}]\n",
      "rectangle -> [{'box': [358, 122, 117, 145], 'confidence': 0.8724071383476257, 'keypoints': {'left_eye': (394, 176), 'right_eye': (448, 176), 'nose': (421, 208), 'mouth_left': (397, 237), 'mouth_right': (443, 237)}}]\n",
      "rectangle -> [{'box': [356, 122, 119, 143], 'confidence': 0.9464100003242493, 'keypoints': {'left_eye': (391, 175), 'right_eye': (446, 175), 'nose': (417, 208), 'mouth_left': (394, 237), 'mouth_right': (442, 237)}}]\n",
      "rectangle -> [{'box': [358, 122, 117, 143], 'confidence': 0.9409274458885193, 'keypoints': {'left_eye': (392, 175), 'right_eye': (447, 175), 'nose': (419, 209), 'mouth_left': (396, 237), 'mouth_right': (443, 237)}}]\n",
      "rectangle -> [{'box': [353, 120, 124, 149], 'confidence': 0.9017003178596497, 'keypoints': {'left_eye': (390, 176), 'right_eye': (448, 174), 'nose': (420, 206), 'mouth_left': (397, 238), 'mouth_right': (446, 236)}}]\n",
      "rectangle -> [{'box': [356, 109, 114, 142], 'confidence': 0.9317850470542908, 'keypoints': {'left_eye': (385, 165), 'right_eye': (439, 163), 'nose': (406, 189), 'mouth_left': (389, 224), 'mouth_right': (434, 223)}}]\n",
      "rectangle -> [{'box': [329, 126, 118, 143], 'confidence': 0.993553876876831, 'keypoints': {'left_eye': (358, 183), 'right_eye': (412, 177), 'nose': (383, 206), 'mouth_left': (367, 244), 'mouth_right': (412, 238)}}]\n"
     ]
    },
    {
     "name": "stdout",
     "output_type": "stream",
     "text": [
      "rectangle -> [{'box': [303, 120, 114, 143], 'confidence': 0.9989853501319885, 'keypoints': {'left_eye': (334, 180), 'right_eye': (385, 173), 'nose': (358, 198), 'mouth_left': (344, 236), 'mouth_right': (388, 230)}}]\n",
      "rectangle -> [{'box': [265, 151, 113, 140], 'confidence': 0.995634138584137, 'keypoints': {'left_eye': (295, 208), 'right_eye': (346, 197), 'nose': (324, 227), 'mouth_left': (309, 262), 'mouth_right': (355, 252)}}]\n",
      "rectangle -> [{'box': [228, 132, 111, 136], 'confidence': 0.9980827569961548, 'keypoints': {'left_eye': (256, 186), 'right_eye': (306, 182), 'nose': (278, 206), 'mouth_left': (263, 239), 'mouth_right': (307, 236)}}]\n",
      "rectangle -> [{'box': [170, 135, 118, 147], 'confidence': 0.9980067610740662, 'keypoints': {'left_eye': (198, 192), 'right_eye': (252, 186), 'nose': (222, 213), 'mouth_left': (206, 248), 'mouth_right': (256, 243)}}]\n",
      "rectangle -> [{'box': [82, 116, 125, 153], 'confidence': 0.9956204295158386, 'keypoints': {'left_eye': (111, 173), 'right_eye': (168, 168), 'nose': (133, 195), 'mouth_left': (117, 234), 'mouth_right': (168, 230)}}]\n",
      "rectangle -> [{'box': [499, 229, 138, 167], 'confidence': 0.9985029697418213, 'keypoints': {'left_eye': (544, 288), 'right_eye': (610, 291), 'nose': (576, 324), 'mouth_left': (542, 358), 'mouth_right': (604, 361)}}]\n",
      "rectangle -> [{'box': [319, 233, 129, 153], 'confidence': 0.9934565424919128, 'keypoints': {'left_eye': (364, 284), 'right_eye': (425, 290), 'nose': (396, 317), 'mouth_left': (360, 350), 'mouth_right': (416, 355)}}]\n",
      "rectangle -> [{'box': [189, 227, 129, 156], 'confidence': 0.9932367205619812, 'keypoints': {'left_eye': (232, 279), 'right_eye': (294, 283), 'nose': (267, 315), 'mouth_left': (232, 347), 'mouth_right': (288, 351)}}, {'box': [425, 169, 195, 217], 'confidence': 0.9622425436973572, 'keypoints': {'left_eye': (477, 264), 'right_eye': (557, 236), 'nose': (524, 298), 'mouth_left': (518, 352), 'mouth_right': (582, 329)}}]\n",
      "rectangle -> [{'box': [142, 190, 129, 159], 'confidence': 0.9995678067207336, 'keypoints': {'left_eye': (183, 246), 'right_eye': (244, 248), 'nose': (215, 280), 'mouth_left': (185, 312), 'mouth_right': (240, 314)}}, {'box': [383, 162, 171, 202], 'confidence': 0.9634519219398499, 'keypoints': {'left_eye': (438, 247), 'right_eye': (507, 233), 'nose': (481, 282), 'mouth_left': (464, 327), 'mouth_right': (522, 315)}}]\n",
      "rectangle -> [{'box': [130, 178, 143, 172], 'confidence': 0.9998984336853027, 'keypoints': {'left_eye': (180, 243), 'right_eye': (249, 241), 'nose': (221, 278), 'mouth_left': (188, 312), 'mouth_right': (248, 310)}}, {'box': [354, 169, 173, 197], 'confidence': 0.7604566812515259, 'keypoints': {'left_eye': (409, 253), 'right_eye': (478, 234), 'nose': (455, 288), 'mouth_left': (438, 334), 'mouth_right': (493, 318)}}]\n",
      "rectangle -> [{'box': [144, 173, 142, 170], 'confidence': 0.9996823072433472, 'keypoints': {'left_eye': (191, 236), 'right_eye': (259, 236), 'nose': (228, 273), 'mouth_left': (195, 304), 'mouth_right': (253, 306)}}, {'box': [366, 178, 166, 195], 'confidence': 0.9694786667823792, 'keypoints': {'left_eye': (412, 260), 'right_eye': (480, 243), 'nose': (454, 294), 'mouth_left': (441, 340), 'mouth_right': (496, 324)}}]\n",
      "rectangle -> [{'box': [131, 181, 137, 170], 'confidence': 0.9993441700935364, 'keypoints': {'left_eye': (180, 241), 'right_eye': (246, 246), 'nose': (215, 279), 'mouth_left': (176, 309), 'mouth_right': (237, 314)}}, {'box': [374, 173, 158, 190], 'confidence': 0.9901162981987, 'keypoints': {'left_eye': (415, 254), 'right_eye': (483, 234), 'nose': (456, 287), 'mouth_left': (444, 334), 'mouth_right': (499, 317)}}]\n",
      "rectangle -> [{'box': [108, 170, 143, 176], 'confidence': 0.9993340373039246, 'keypoints': {'left_eye': (157, 234), 'right_eye': (227, 236), 'nose': (193, 275), 'mouth_left': (156, 306), 'mouth_right': (218, 309)}}, {'box': [376, 156, 158, 193], 'confidence': 0.9889363646507263, 'keypoints': {'left_eye': (420, 236), 'right_eye': (491, 221), 'nose': (464, 275), 'mouth_left': (445, 317), 'mouth_right': (505, 303)}}]\n",
      "rectangle -> [{'box': [88, 167, 148, 181], 'confidence': 0.9999160766601562, 'keypoints': {'left_eye': (140, 235), 'right_eye': (214, 234), 'nose': (182, 277), 'mouth_left': (143, 308), 'mouth_right': (206, 309)}}, {'box': [338, 153, 163, 196], 'confidence': 0.9763299226760864, 'keypoints': {'left_eye': (378, 236), 'right_eye': (449, 216), 'nose': (420, 272), 'mouth_left': (409, 318), 'mouth_right': (465, 300)}}]\n",
      "rectangle -> [{'box': [82, 173, 148, 183], 'confidence': 0.9996384382247925, 'keypoints': {'left_eye': (132, 241), 'right_eye': (205, 243), 'nose': (171, 282), 'mouth_left': (132, 313), 'mouth_right': (197, 317)}}, {'box': [308, 163, 160, 187], 'confidence': 0.988477349281311, 'keypoints': {'left_eye': (348, 244), 'right_eye': (415, 224), 'nose': (387, 278), 'mouth_left': (378, 322), 'mouth_right': (433, 305)}}]\n",
      "rectangle -> [{'box': [226, 158, 159, 190], 'confidence': 0.9891968369483948, 'keypoints': {'left_eye': (255, 235), 'right_eye': (321, 217), 'nose': (278, 263), 'mouth_left': (274, 311), 'mouth_right': (331, 297)}}]\n",
      "rectangle -> [{'box': [455, 144, 126, 147], 'confidence': 0.999885082244873, 'keypoints': {'left_eye': (474, 211), 'right_eye': (527, 192), 'nose': (490, 225), 'mouth_left': (488, 266), 'mouth_right': (533, 250)}}]\n",
      "rectangle -> [{'box': [436, 119, 131, 151], 'confidence': 0.9997013211250305, 'keypoints': {'left_eye': (458, 187), 'right_eye': (512, 167), 'nose': (477, 200), 'mouth_left': (476, 243), 'mouth_right': (522, 226)}}]\n",
      "rectangle -> [{'box': [477, 32, 155, 178], 'confidence': 0.9985523819923401, 'keypoints': {'left_eye': (504, 113), 'right_eye': (567, 90), 'nose': (526, 133), 'mouth_left': (526, 179), 'mouth_right': (581, 160)}}, {'box': [390, 400, 20, 24], 'confidence': 0.9479996562004089, 'keypoints': {'left_eye': (398, 409), 'right_eye': (407, 409), 'nose': (403, 414), 'mouth_left': (399, 419), 'mouth_right': (405, 420)}}]\n",
      "rectangle -> [{'box': [341, 97, 185, 224], 'confidence': 0.9825273156166077, 'keypoints': {'left_eye': (376, 196), 'right_eye': (445, 171), 'nose': (396, 225), 'mouth_left': (396, 283), 'mouth_right': (455, 261)}}, {'box': [-15, 197, 207, 233], 'confidence': 0.7615402340888977, 'keypoints': {'left_eye': (50, 301), 'right_eye': (124, 284), 'nose': (90, 335), 'mouth_left': (72, 384), 'mouth_right': (132, 370)}}]\n",
      "rectangle -> [{'box': [192, 75, 167, 191], 'confidence': 0.9976922273635864, 'keypoints': {'left_eye': (224, 159), 'right_eye': (290, 140), 'nose': (246, 184), 'mouth_left': (243, 231), 'mouth_right': (301, 215)}}, {'box': [-6, 168, 201, 255], 'confidence': 0.995652437210083, 'keypoints': {'left_eye': (40, 263), 'right_eye': (134, 249), 'nose': (87, 317), 'mouth_left': (64, 366), 'mouth_right': (145, 354)}}]\n",
      "rectangle -> [{'box': [194, 70, 184, 214], 'confidence': 0.9958981871604919, 'keypoints': {'left_eye': (230, 173), 'right_eye': (299, 135), 'nose': (265, 194), 'mouth_left': (266, 250), 'mouth_right': (327, 217)}}, {'box': [-15, 178, 201, 249], 'confidence': 0.9934733510017395, 'keypoints': {'left_eye': (32, 277), 'right_eye': (122, 256), 'nose': (82, 323), 'mouth_left': (62, 375), 'mouth_right': (141, 357)}}]\n",
      "rectangle -> [{'box': [224, 30, 205, 233], 'confidence': 0.9995028972625732, 'keypoints': {'left_eye': (265, 132), 'right_eye': (350, 109), 'nose': (296, 172), 'mouth_left': (288, 227), 'mouth_right': (359, 206)}}, {'box': [40, 164, 199, 243], 'confidence': 0.9991840720176697, 'keypoints': {'left_eye': (97, 258), 'right_eye': (186, 244), 'nose': (151, 306), 'mouth_left': (118, 353), 'mouth_right': (202, 341)}}]\n",
      "rectangle -> [{'box': [47, 169, 201, 250], 'confidence': 0.9990481734275818, 'keypoints': {'left_eye': (119, 263), 'right_eye': (213, 264), 'nose': (176, 319), 'mouth_left': (124, 360), 'mouth_right': (212, 362)}}, {'box': [256, 62, 209, 250], 'confidence': 0.9988976716995239, 'keypoints': {'left_eye': (300, 158), 'right_eye': (395, 151), 'nose': (335, 212), 'mouth_left': (316, 256), 'mouth_right': (396, 251)}}]\n",
      "rectangle -> [{'box': [269, 62, 218, 262], 'confidence': 0.9996868371963501, 'keypoints': {'left_eye': (313, 163), 'right_eye': (413, 157), 'nose': (344, 219), 'mouth_left': (320, 267), 'mouth_right': (406, 265)}}, {'box': [25, 177, 210, 269], 'confidence': 0.999365508556366, 'keypoints': {'left_eye': (105, 284), 'right_eye': (202, 284), 'nose': (165, 346), 'mouth_left': (107, 388), 'mouth_right': (197, 388)}}]\n"
     ]
    },
    {
     "name": "stdout",
     "output_type": "stream",
     "text": [
      "rectangle -> [{'box': [281, 88, 207, 251], 'confidence': 0.9998058676719666, 'keypoints': {'left_eye': (330, 183), 'right_eye': (423, 175), 'nose': (367, 237), 'mouth_left': (344, 287), 'mouth_right': (420, 281)}}, {'box': [60, 194, 199, 254], 'confidence': 0.9994764924049377, 'keypoints': {'left_eye': (134, 289), 'right_eye': (228, 291), 'nose': (191, 348), 'mouth_left': (134, 389), 'mouth_right': (219, 392)}}]\n",
      "rectangle -> [{'box': [285, 96, 204, 248], 'confidence': 0.9998093247413635, 'keypoints': {'left_eye': (331, 190), 'right_eye': (423, 180), 'nose': (367, 243), 'mouth_left': (345, 294), 'mouth_right': (420, 286)}}, {'box': [25, 198, 207, 249], 'confidence': 0.9991687536239624, 'keypoints': {'left_eye': (81, 296), 'right_eye': (174, 279), 'nose': (139, 347), 'mouth_left': (109, 395), 'mouth_right': (192, 380)}}]\n",
      "rectangle -> [{'box': [280, 109, 189, 230], 'confidence': 0.9990079998970032, 'keypoints': {'left_eye': (321, 199), 'right_eye': (403, 188), 'nose': (350, 248), 'mouth_left': (333, 296), 'mouth_right': (401, 287)}}, {'box': [9, 214, 189, 232], 'confidence': 0.9533498287200928, 'keypoints': {'left_eye': (62, 311), 'right_eye': (149, 291), 'nose': (116, 356), 'mouth_left': (96, 408), 'mouth_right': (168, 390)}}]\n",
      "rectangle -> [{'box': [265, 78, 207, 243], 'confidence': 0.9947346448898315, 'keypoints': {'left_eye': (304, 177), 'right_eye': (392, 160), 'nose': (336, 227), 'mouth_left': (327, 277), 'mouth_right': (399, 263)}}, {'box': [-6, 195, 197, 241], 'confidence': 0.986132025718689, 'keypoints': {'left_eye': (47, 297), 'right_eye': (134, 278), 'nose': (99, 342), 'mouth_left': (79, 394), 'mouth_right': (152, 377)}}]\n",
      "rectangle -> [{'box': [260, 82, 204, 239], 'confidence': 0.998932421207428, 'keypoints': {'left_eye': (297, 179), 'right_eye': (384, 162), 'nose': (327, 228), 'mouth_left': (320, 280), 'mouth_right': (390, 266)}}, {'box': [-6, 204, 197, 240], 'confidence': 0.9872590899467468, 'keypoints': {'left_eye': (46, 307), 'right_eye': (131, 282), 'nose': (99, 348), 'mouth_left': (83, 406), 'mouth_right': (155, 384)}}]\n",
      "rectangle -> [{'box': [241, 79, 207, 244], 'confidence': 0.9975122213363647, 'keypoints': {'left_eye': (278, 180), 'right_eye': (362, 159), 'nose': (306, 226), 'mouth_left': (304, 282), 'mouth_right': (371, 263)}}]\n",
      "rectangle -> [{'box': [250, 82, 202, 231], 'confidence': 0.9800540804862976, 'keypoints': {'left_eye': (291, 187), 'right_eye': (370, 157), 'nose': (324, 223), 'mouth_left': (327, 280), 'mouth_right': (390, 255)}}]\n",
      "rectangle -> [{'box': [277, 79, 197, 232], 'confidence': 0.9757481217384338, 'keypoints': {'left_eye': (320, 175), 'right_eye': (399, 147), 'nose': (357, 212), 'mouth_left': (354, 274), 'mouth_right': (416, 253)}}]\n",
      "rectangle -> [{'box': [280, 75, 202, 244], 'confidence': 0.9917576909065247, 'keypoints': {'left_eye': (318, 176), 'right_eye': (403, 149), 'nose': (354, 214), 'mouth_left': (349, 281), 'mouth_right': (413, 257)}}, {'box': [64, 208, 180, 208], 'confidence': 0.9688652753829956, 'keypoints': {'left_eye': (113, 291), 'right_eye': (193, 284), 'nose': (151, 335), 'mouth_left': (122, 378), 'mouth_right': (187, 372)}}]\n",
      "rectangle -> [{'box': [51, 200, 173, 198], 'confidence': 0.9614703059196472, 'keypoints': {'left_eye': (97, 282), 'right_eye': (172, 269), 'nose': (136, 321), 'mouth_left': (111, 368), 'mouth_right': (170, 355)}}, {'box': [254, 48, 205, 268], 'confidence': 0.9529829025268555, 'keypoints': {'left_eye': (309, 153), 'right_eye': (395, 138), 'nose': (338, 200), 'mouth_left': (320, 259), 'mouth_right': (390, 244)}}]\n",
      "rectangle -> [{'box': [244, 59, 203, 241], 'confidence': 0.987036406993866, 'keypoints': {'left_eye': (283, 159), 'right_eye': (366, 133), 'nose': (315, 199), 'mouth_left': (311, 262), 'mouth_right': (375, 239)}}, {'box': [36, 198, 182, 215], 'confidence': 0.981376051902771, 'keypoints': {'left_eye': (86, 285), 'right_eye': (165, 275), 'nose': (126, 331), 'mouth_left': (98, 375), 'mouth_right': (165, 364)}}]\n",
      "rectangle -> [{'box': [225, 59, 206, 231], 'confidence': 0.8902724981307983, 'keypoints': {'left_eye': (272, 154), 'right_eye': (351, 127), 'nose': (309, 193), 'mouth_left': (305, 249), 'mouth_right': (367, 227)}}, {'box': [32, 202, 171, 196], 'confidence': 0.7755910754203796, 'keypoints': {'left_eye': (84, 283), 'right_eye': (153, 275), 'nose': (120, 318), 'mouth_left': (92, 361), 'mouth_right': (147, 352)}}]\n",
      "rectangle -> [{'box': [220, 39, 217, 262], 'confidence': 0.9425539970397949, 'keypoints': {'left_eye': (268, 147), 'right_eye': (354, 124), 'nose': (298, 187), 'mouth_left': (285, 249), 'mouth_right': (356, 229)}}]\n",
      "rectangle -> [{'box': [220, 47, 206, 239], 'confidence': 0.9920439720153809, 'keypoints': {'left_eye': (259, 147), 'right_eye': (341, 112), 'nose': (295, 181), 'mouth_left': (291, 245), 'mouth_right': (362, 214)}}]\n",
      "rectangle -> [{'box': [24, 174, 174, 204], 'confidence': 0.98175448179245, 'keypoints': {'left_eye': (71, 256), 'right_eye': (148, 247), 'nose': (112, 300), 'mouth_left': (85, 343), 'mouth_right': (149, 333)}}, {'box': [224, 42, 201, 235], 'confidence': 0.9598251581192017, 'keypoints': {'left_eye': (265, 146), 'right_eye': (344, 118), 'nose': (297, 180), 'mouth_left': (292, 240), 'mouth_right': (357, 213)}}]\n",
      "rectangle -> [{'box': [222, 46, 211, 240], 'confidence': 0.9237100481987, 'keypoints': {'left_eye': (268, 152), 'right_eye': (350, 120), 'nose': (307, 184), 'mouth_left': (297, 243), 'mouth_right': (367, 214)}}, {'box': [29, 172, 170, 196], 'confidence': 0.855434238910675, 'keypoints': {'left_eye': (74, 252), 'right_eye': (144, 238), 'nose': (110, 287), 'mouth_left': (90, 332), 'mouth_right': (145, 319)}}]\n",
      "rectangle -> [{'box': [215, 50, 217, 244], 'confidence': 0.8678772449493408, 'keypoints': {'left_eye': (267, 153), 'right_eye': (350, 119), 'nose': (313, 186), 'mouth_left': (304, 247), 'mouth_right': (374, 216)}}]\n",
      "rectangle -> [{'box': [231, 47, 212, 246], 'confidence': 0.9036437273025513, 'keypoints': {'left_eye': (276, 155), 'right_eye': (357, 121), 'nose': (316, 181), 'mouth_left': (312, 249), 'mouth_right': (379, 217)}}]\n",
      "rectangle -> [{'box': [225, 41, 212, 245], 'confidence': 0.9758192896842957, 'keypoints': {'left_eye': (268, 150), 'right_eye': (352, 115), 'nose': (310, 179), 'mouth_left': (305, 244), 'mouth_right': (374, 213)}}]\n",
      "rectangle -> [{'box': [48, 92, 178, 201], 'confidence': 0.792677640914917, 'keypoints': {'left_eye': (108, 172), 'right_eye': (179, 160), 'nose': (151, 202), 'mouth_left': (124, 249), 'mouth_right': (179, 238)}}, {'box': [283, 346, 24, 29], 'confidence': 0.7921061515808105, 'keypoints': {'left_eye': (290, 356), 'right_eye': (300, 357), 'nose': (293, 363), 'mouth_left': (289, 370), 'mouth_right': (297, 370)}}]\n",
      "rectangle -> [{'box': [11, 105, 172, 199], 'confidence': 0.7997490167617798, 'keypoints': {'left_eye': (70, 180), 'right_eye': (140, 178), 'nose': (107, 215), 'mouth_left': (75, 256), 'mouth_right': (133, 253)}}]\n",
      "rectangle -> [{'box': [13, 109, 174, 199], 'confidence': 0.8502476811408997, 'keypoints': {'left_eye': (70, 183), 'right_eye': (142, 183), 'nose': (107, 220), 'mouth_left': (73, 261), 'mouth_right': (131, 261)}}]\n",
      "rectangle -> [{'box': [-6, 96, 211, 243], 'confidence': 0.9793701767921448, 'keypoints': {'left_eye': (65, 207), 'right_eye': (148, 180), 'nose': (121, 245), 'mouth_left': (99, 300), 'mouth_right': (169, 276)}}]\n"
     ]
    },
    {
     "ename": "error",
     "evalue": "OpenCV(4.3.0) /io/opencv/modules/imgproc/src/resize.cpp:3929: error: (-215:Assertion failed) !ssize.empty() in function 'resize'\n",
     "output_type": "error",
     "traceback": [
      "\u001b[0;31m---------------------------------------------------------------------------\u001b[0m",
      "\u001b[0;31merror\u001b[0m                                     Traceback (most recent call last)",
      "\u001b[0;32m<ipython-input-11-f1d1f90b1859>\u001b[0m in \u001b[0;36m<module>\u001b[0;34m\u001b[0m\n\u001b[1;32m      5\u001b[0m     \u001b[0;32mif\u001b[0m\u001b[0;34m(\u001b[0m\u001b[0mbox\u001b[0m \u001b[0;34m!=\u001b[0m \u001b[0;34m[\u001b[0m\u001b[0;34m]\u001b[0m\u001b[0;34m)\u001b[0m\u001b[0;34m:\u001b[0m\u001b[0;34m\u001b[0m\u001b[0;34m\u001b[0m\u001b[0m\n\u001b[1;32m      6\u001b[0m         \u001b[0mframe\u001b[0m \u001b[0;34m=\u001b[0m \u001b[0mdrawBox\u001b[0m\u001b[0;34m(\u001b[0m\u001b[0mframe\u001b[0m\u001b[0;34m,\u001b[0m \u001b[0mbox\u001b[0m\u001b[0;34m)\u001b[0m\u001b[0;34m\u001b[0m\u001b[0;34m\u001b[0m\u001b[0m\n\u001b[0;32m----> 7\u001b[0;31m         \u001b[0;32mif\u001b[0m \u001b[0mdetectImage\u001b[0m\u001b[0;34m(\u001b[0m\u001b[0mframe\u001b[0m\u001b[0;34m,\u001b[0m \u001b[0mbox\u001b[0m\u001b[0;34m)\u001b[0m\u001b[0;34m:\u001b[0m\u001b[0;34m\u001b[0m\u001b[0;34m\u001b[0m\u001b[0m\n\u001b[0m\u001b[1;32m      8\u001b[0m             \u001b[0mcv2\u001b[0m\u001b[0;34m.\u001b[0m\u001b[0mputText\u001b[0m\u001b[0;34m(\u001b[0m\u001b[0mframe\u001b[0m\u001b[0;34m,\u001b[0m \u001b[0;34m'mask on'\u001b[0m\u001b[0;34m,\u001b[0m \u001b[0;34m(\u001b[0m\u001b[0;36m10\u001b[0m\u001b[0;34m,\u001b[0m \u001b[0;36m50\u001b[0m\u001b[0;34m)\u001b[0m\u001b[0;34m,\u001b[0m \u001b[0mcv2\u001b[0m\u001b[0;34m.\u001b[0m\u001b[0mFONT_HERSHEY_COMPLEX\u001b[0m\u001b[0;34m,\u001b[0m \u001b[0;36m1\u001b[0m\u001b[0;34m,\u001b[0m \u001b[0;34m(\u001b[0m\u001b[0;36m0\u001b[0m\u001b[0;34m,\u001b[0m \u001b[0;36m255\u001b[0m\u001b[0;34m,\u001b[0m \u001b[0;36m0\u001b[0m\u001b[0;34m)\u001b[0m\u001b[0;34m,\u001b[0m \u001b[0;36m3\u001b[0m\u001b[0;34m)\u001b[0m\u001b[0;34m\u001b[0m\u001b[0;34m\u001b[0m\u001b[0m\n\u001b[1;32m      9\u001b[0m         \u001b[0;32melse\u001b[0m\u001b[0;34m:\u001b[0m\u001b[0;34m\u001b[0m\u001b[0;34m\u001b[0m\u001b[0m\n",
      "\u001b[0;32m<ipython-input-8-97b6447961c3>\u001b[0m in \u001b[0;36mdetectImage\u001b[0;34m(img, box)\u001b[0m\n\u001b[1;32m     15\u001b[0m     \u001b[0;32mif\u001b[0m \u001b[0mcrop_img\u001b[0m \u001b[0;34m==\u001b[0m \u001b[0;34m[\u001b[0m\u001b[0;34m]\u001b[0m\u001b[0;34m:\u001b[0m\u001b[0;34m\u001b[0m\u001b[0;34m\u001b[0m\u001b[0m\n\u001b[1;32m     16\u001b[0m         \u001b[0;32mreturn\u001b[0m \u001b[0;32mFalse\u001b[0m\u001b[0;34m\u001b[0m\u001b[0;34m\u001b[0m\u001b[0m\n\u001b[0;32m---> 17\u001b[0;31m     \u001b[0mcrop_img\u001b[0m \u001b[0;34m=\u001b[0m \u001b[0mcv2\u001b[0m\u001b[0;34m.\u001b[0m\u001b[0mresize\u001b[0m\u001b[0;34m(\u001b[0m\u001b[0mcrop_img\u001b[0m\u001b[0;34m,\u001b[0m \u001b[0;34m(\u001b[0m\u001b[0;36m100\u001b[0m\u001b[0;34m,\u001b[0m \u001b[0;36m100\u001b[0m\u001b[0;34m)\u001b[0m\u001b[0;34m)\u001b[0m\u001b[0;34m\u001b[0m\u001b[0;34m\u001b[0m\u001b[0m\n\u001b[0m\u001b[1;32m     18\u001b[0m     \u001b[0mcrop_img\u001b[0m \u001b[0;34m=\u001b[0m \u001b[0mnp\u001b[0m\u001b[0;34m.\u001b[0m\u001b[0mreshape\u001b[0m\u001b[0;34m(\u001b[0m\u001b[0mcrop_img\u001b[0m\u001b[0;34m,\u001b[0m \u001b[0;34m(\u001b[0m\u001b[0;34m-\u001b[0m\u001b[0;36m1\u001b[0m\u001b[0;34m,\u001b[0m \u001b[0;36m100\u001b[0m\u001b[0;34m,\u001b[0m \u001b[0;36m100\u001b[0m\u001b[0;34m,\u001b[0m \u001b[0;36m3\u001b[0m\u001b[0;34m)\u001b[0m\u001b[0;34m)\u001b[0m\u001b[0;34m\u001b[0m\u001b[0;34m\u001b[0m\u001b[0m\n\u001b[1;32m     19\u001b[0m     \u001b[0;32mif\u001b[0m \u001b[0mnew_model\u001b[0m\u001b[0;34m.\u001b[0m\u001b[0mpredict\u001b[0m\u001b[0;34m(\u001b[0m\u001b[0mcrop_img\u001b[0m\u001b[0;34m)\u001b[0m \u001b[0;34m>\u001b[0m \u001b[0;36m0.5\u001b[0m\u001b[0;34m:\u001b[0m\u001b[0;34m\u001b[0m\u001b[0;34m\u001b[0m\u001b[0m\n",
      "\u001b[0;31merror\u001b[0m: OpenCV(4.3.0) /io/opencv/modules/imgproc/src/resize.cpp:3929: error: (-215:Assertion failed) !ssize.empty() in function 'resize'\n"
     ]
    }
   ],
   "source": [
    "cap = cv2.VideoCapture(0)\n",
    "while(True):\n",
    "    ret, frame = cap.read()\n",
    "    box = detector.detect_faces(frame)\n",
    "    if(box != []):\n",
    "        frame = drawBox(frame, box)\n",
    "        if detectImage(frame, box):\n",
    "            cv2.putText(frame, 'mask on', (10, 50), cv2.FONT_HERSHEY_COMPLEX, 1, (0, 255, 0), 3)\n",
    "        else:\n",
    "            cv2.putText(frame, 'no mask', (10, 50), cv2.FONT_HERSHEY_COMPLEX, 1, (0, 255, 0), 3)\n",
    "    \n",
    "    cv2.imshow('frame', frame)\n",
    "    \n",
    "    if cv2.waitKey(1) & 0xFF == ord('q'):\n",
    "        break\n",
    "\n",
    "cap.release()\n",
    "cv2.destroyAllWindows()\n",
    "\n",
    "#to plot using matplotlib we have to convert the BGR which is default for the cv2 to the RGB colourQ\n",
    "#img = cv2.cvtColor(frame, cv2.COLOR_BGR2RGB)\n",
    "#             cv2.putText(rect_img, 'no mask', cv2.FONT_HERSHEY_COMPLEX, tuple(80, 50), 2, (0, 255, 0), 2)\n"
   ]
  },
  {
   "cell_type": "code",
   "execution_count": 12,
   "metadata": {},
   "outputs": [],
   "source": [
    "cap.release()\n",
    "cv2.destroyAllWindows()"
   ]
  },
  {
   "cell_type": "code",
   "execution_count": null,
   "metadata": {},
   "outputs": [],
   "source": [
    "a = np.array([[1,2,3],[4, 5, 6], [7, 8, 9]])\n",
    "a[0:2, 1:3]"
   ]
  }
 ],
 "metadata": {
  "kernelspec": {
   "display_name": "Python 3",
   "language": "python",
   "name": "python3"
  },
  "language_info": {
   "codemirror_mode": {
    "name": "ipython",
    "version": 3
   },
   "file_extension": ".py",
   "mimetype": "text/x-python",
   "name": "python",
   "nbconvert_exporter": "python",
   "pygments_lexer": "ipython3",
   "version": "3.8.5"
  }
 },
 "nbformat": 4,
 "nbformat_minor": 4
}
