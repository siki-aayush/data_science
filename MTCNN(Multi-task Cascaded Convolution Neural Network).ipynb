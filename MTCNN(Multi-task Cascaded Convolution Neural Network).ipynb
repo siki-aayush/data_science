{
 "cells": [
  {
   "cell_type": "code",
   "execution_count": 1,
   "metadata": {},
   "outputs": [],
   "source": [
    "from mtcnn import MTCNN\n",
    "import cv2\n",
    "from PIL import Image\n",
    "import matplotlib.pyplot as plt\n",
    "import numpy as np"
   ]
  },
  {
   "cell_type": "code",
   "execution_count": 2,
   "metadata": {},
   "outputs": [],
   "source": [
    "%matplotlib inline"
   ]
  },
  {
   "cell_type": "code",
   "execution_count": 3,
   "metadata": {
    "scrolled": true
   },
   "outputs": [],
   "source": [
    "detector = MTCNN()\n",
    "# img = cv2.cvtColor(cv2.imread('DATA/person.jpeg'), cv2.COLOR_BGR2RGB)\n",
    "# box = detector.detect_faces(img)\n",
    "# print(box)"
   ]
  },
  {
   "cell_type": "code",
   "execution_count": 4,
   "metadata": {},
   "outputs": [],
   "source": [
    "from tensorflow.keras.models import load_model"
   ]
  },
  {
   "cell_type": "code",
   "execution_count": 5,
   "metadata": {},
   "outputs": [
    {
     "name": "stdout",
     "output_type": "stream",
     "text": [
      "Model: \"sequential_1\"\n",
      "_________________________________________________________________\n",
      "Layer (type)                 Output Shape              Param #   \n",
      "=================================================================\n",
      "vgg16 (Model)                (None, 3, 3, 512)         14714688  \n",
      "_________________________________________________________________\n",
      "sequential (Sequential)      (None, 1)                 2330071   \n",
      "=================================================================\n",
      "Total params: 17,044,759\n",
      "Trainable params: 2,330,071\n",
      "Non-trainable params: 14,714,688\n",
      "_________________________________________________________________\n"
     ]
    }
   ],
   "source": [
    "new_model = load_model('big__data/facemask.h5')\n",
    "new_model.summary()"
   ]
  },
  {
   "cell_type": "code",
   "execution_count": 6,
   "metadata": {},
   "outputs": [
    {
     "ename": "NameError",
     "evalue": "name 'img' is not defined",
     "output_type": "error",
     "traceback": [
      "\u001b[0;31m---------------------------------------------------------------------------\u001b[0m",
      "\u001b[0;31mNameError\u001b[0m                                 Traceback (most recent call last)",
      "\u001b[0;32m<ipython-input-6-8390a6787a5e>\u001b[0m in \u001b[0;36m<module>\u001b[0;34m\u001b[0m\n\u001b[0;32m----> 1\u001b[0;31m \u001b[0mimg\u001b[0m \u001b[0;34m=\u001b[0m \u001b[0mcv2\u001b[0m\u001b[0;34m.\u001b[0m\u001b[0mresize\u001b[0m\u001b[0;34m(\u001b[0m\u001b[0mimg\u001b[0m\u001b[0;34m,\u001b[0m \u001b[0;34m(\u001b[0m\u001b[0;36m100\u001b[0m\u001b[0;34m,\u001b[0m \u001b[0;36m100\u001b[0m\u001b[0;34m)\u001b[0m\u001b[0;34m)\u001b[0m\u001b[0;34m\u001b[0m\u001b[0;34m\u001b[0m\u001b[0m\n\u001b[0m\u001b[1;32m      2\u001b[0m \u001b[0mnew_model\u001b[0m\u001b[0;34m.\u001b[0m\u001b[0mpredict\u001b[0m\u001b[0;34m(\u001b[0m\u001b[0mnp\u001b[0m\u001b[0;34m.\u001b[0m\u001b[0mreshape\u001b[0m\u001b[0;34m(\u001b[0m\u001b[0mimg\u001b[0m\u001b[0;34m,\u001b[0m \u001b[0;34m(\u001b[0m\u001b[0;34m-\u001b[0m\u001b[0;36m1\u001b[0m\u001b[0;34m,\u001b[0m \u001b[0;36m100\u001b[0m\u001b[0;34m,\u001b[0m \u001b[0;36m100\u001b[0m\u001b[0;34m,\u001b[0m \u001b[0;36m3\u001b[0m\u001b[0;34m)\u001b[0m\u001b[0;34m)\u001b[0m\u001b[0;34m)\u001b[0m\u001b[0;34m\u001b[0m\u001b[0;34m\u001b[0m\u001b[0m\n",
      "\u001b[0;31mNameError\u001b[0m: name 'img' is not defined"
     ]
    }
   ],
   "source": [
    "img = cv2.resize(img, (100, 100))\n",
    "new_model.predict(np.reshape(img, (-1, 100, 100, 3)))"
   ]
  },
  {
   "cell_type": "code",
   "execution_count": 28,
   "metadata": {},
   "outputs": [],
   "source": [
    "def drawBox(img, box):\n",
    "    rectangle = box[0]['box']\n",
    "    print('rectangle -> {}'.format(box))\n",
    "    predict = cv2.rectangle(img, (rectangle[0], rectangle[1]), (rectangle[0]+rectangle[2], rectangle[1]+rectangle[3]), (0, 255, 0), 2)\n",
    "    return predict\n",
    "\n",
    "def detectImage(img, box):\n",
    "    rectangle = box[0]['box']\n",
    "    x1 = rectangle[0]\n",
    "    y1 = rectangle[1]\n",
    "    x2 = x1 + rectangle[2]\n",
    "    y2 = y1 + rectangle[3]\n",
    "\n",
    "    crop_img = img[y1:y2, x1:x2]\n",
    "    if crop_img == []:\n",
    "        return False\n",
    "    crop_img = cv2.resize(crop_img, (100, 100))\n",
    "    crop_img = np.reshape(crop_img, (-1, 100, 100, 3))\n",
    "    if new_model.predict(crop_img) > 0.5:\n",
    "        return True\n",
    "    else:\n",
    "        return False"
   ]
  },
  {
   "cell_type": "code",
   "execution_count": 30,
   "metadata": {},
   "outputs": [
    {
     "name": "stdout",
     "output_type": "stream",
     "text": [
      "rectangle -> [{'box': [291, 205, 176, 223], 'confidence': 0.9929854273796082, 'keypoints': {'left_eye': (341, 290), 'right_eye': (422, 287), 'nose': (381, 335), 'mouth_left': (345, 378), 'mouth_right': (416, 378)}}]\n"
     ]
    },
    {
     "name": "stderr",
     "output_type": "stream",
     "text": [
      "<ipython-input-28-97b6447961c3>:15: DeprecationWarning: elementwise comparison failed; this will raise an error in the future.\n",
      "  if crop_img == []:\n"
     ]
    },
    {
     "name": "stdout",
     "output_type": "stream",
     "text": [
      "rectangle -> [{'box': [298, 179, 159, 190], 'confidence': 0.8651243448257446, 'keypoints': {'left_eye': (357, 235), 'right_eye': (422, 244), 'nose': (387, 279), 'mouth_left': (349, 321), 'mouth_right': (402, 327)}}]\n",
      "rectangle -> [{'box': [309, 122, 175, 212], 'confidence': 0.8522422909736633, 'keypoints': {'left_eye': (366, 189), 'right_eye': (436, 192), 'nose': (395, 229), 'mouth_left': (363, 279), 'mouth_right': (422, 282)}}]\n",
      "rectangle -> [{'box': [258, 85, 207, 254], 'confidence': 0.9903119802474976, 'keypoints': {'left_eye': (319, 182), 'right_eye': (412, 189), 'nose': (359, 241), 'mouth_left': (312, 287), 'mouth_right': (393, 294)}}]\n",
      "rectangle -> [{'box': [190, 22, 214, 264], 'confidence': 0.991241455078125, 'keypoints': {'left_eye': (241, 126), 'right_eye': (341, 128), 'nose': (285, 186), 'mouth_left': (242, 231), 'mouth_right': (331, 234)}}]\n",
      "rectangle -> [{'box': [248, 42, 203, 238], 'confidence': 0.9864987134933472, 'keypoints': {'left_eye': (301, 135), 'right_eye': (399, 131), 'nose': (344, 192), 'mouth_left': (307, 239), 'mouth_right': (392, 237)}}]\n",
      "rectangle -> [{'box': [306, 52, 191, 239], 'confidence': 0.994767427444458, 'keypoints': {'left_eye': (361, 144), 'right_eye': (450, 150), 'nose': (401, 202), 'mouth_left': (358, 239), 'mouth_right': (437, 245)}}]\n",
      "rectangle -> [{'box': [311, 27, 202, 246], 'confidence': 0.999850869178772, 'keypoints': {'left_eye': (367, 122), 'right_eye': (463, 122), 'nose': (411, 180), 'mouth_left': (370, 219), 'mouth_right': (453, 222)}}]\n",
      "rectangle -> [{'box': [305, 9, 210, 255], 'confidence': 0.9960685968399048, 'keypoints': {'left_eye': (363, 110), 'right_eye': (461, 113), 'nose': (404, 173), 'mouth_left': (359, 211), 'mouth_right': (445, 215)}}]\n",
      "rectangle -> [{'box': [295, 27, 200, 249], 'confidence': 0.9979642629623413, 'keypoints': {'left_eye': (351, 123), 'right_eye': (443, 126), 'nose': (392, 182), 'mouth_left': (351, 219), 'mouth_right': (432, 224)}}]\n",
      "rectangle -> [{'box': [302, 51, 191, 238], 'confidence': 0.9979177117347717, 'keypoints': {'left_eye': (357, 140), 'right_eye': (446, 144), 'nose': (396, 197), 'mouth_left': (355, 234), 'mouth_right': (433, 240)}}]\n",
      "rectangle -> [{'box': [297, 68, 182, 228], 'confidence': 0.9922250509262085, 'keypoints': {'left_eye': (348, 157), 'right_eye': (432, 158), 'nose': (386, 209), 'mouth_left': (349, 247), 'mouth_right': (422, 250)}}]\n",
      "rectangle -> [{'box': [298, 74, 180, 225], 'confidence': 0.9957333207130432, 'keypoints': {'left_eye': (345, 159), 'right_eye': (429, 160), 'nose': (381, 211), 'mouth_left': (347, 249), 'mouth_right': (420, 252)}}]\n",
      "rectangle -> [{'box': [287, 87, 181, 223], 'confidence': 0.9778172373771667, 'keypoints': {'left_eye': (336, 172), 'right_eye': (420, 175), 'nose': (373, 224), 'mouth_left': (335, 263), 'mouth_right': (406, 267)}}]\n",
      "rectangle -> [{'box': [297, 149, 62, 68], 'confidence': 0.9295011162757874, 'keypoints': {'left_eye': (316, 170), 'right_eye': (340, 169), 'nose': (326, 185), 'mouth_left': (317, 200), 'mouth_right': (336, 199)}}]\n",
      "rectangle -> [{'box': [298, 82, 180, 221], 'confidence': 0.9983178377151489, 'keypoints': {'left_eye': (352, 171), 'right_eye': (438, 171), 'nose': (394, 219), 'mouth_left': (357, 259), 'mouth_right': (430, 259)}}]\n",
      "rectangle -> [{'box': [284, 82, 174, 217], 'confidence': 0.9993576407432556, 'keypoints': {'left_eye': (333, 166), 'right_eye': (417, 162), 'nose': (373, 209), 'mouth_left': (341, 252), 'mouth_right': (413, 250)}}]\n",
      "rectangle -> [{'box': [279, 84, 177, 220], 'confidence': 0.9988665580749512, 'keypoints': {'left_eye': (329, 173), 'right_eye': (414, 168), 'nose': (370, 217), 'mouth_left': (340, 259), 'mouth_right': (412, 256)}}]\n",
      "rectangle -> [{'box': [281, 84, 176, 219], 'confidence': 0.9986457228660583, 'keypoints': {'left_eye': (331, 173), 'right_eye': (417, 168), 'nose': (374, 218), 'mouth_left': (343, 259), 'mouth_right': (414, 256)}}]\n",
      "rectangle -> [{'box': [285, 82, 175, 218], 'confidence': 0.998499870300293, 'keypoints': {'left_eye': (334, 171), 'right_eye': (418, 166), 'nose': (375, 217), 'mouth_left': (345, 258), 'mouth_right': (416, 254)}}]\n",
      "rectangle -> [{'box': [287, 88, 174, 216], 'confidence': 0.9992356300354004, 'keypoints': {'left_eye': (336, 172), 'right_eye': (419, 167), 'nose': (376, 214), 'mouth_left': (345, 256), 'mouth_right': (417, 253)}}]\n",
      "rectangle -> [{'box': [286, 87, 174, 216], 'confidence': 0.999010443687439, 'keypoints': {'left_eye': (335, 172), 'right_eye': (419, 167), 'nose': (375, 214), 'mouth_left': (344, 256), 'mouth_right': (417, 252)}}]\n",
      "rectangle -> [{'box': [285, 83, 175, 219], 'confidence': 0.9987388253211975, 'keypoints': {'left_eye': (334, 171), 'right_eye': (418, 166), 'nose': (375, 217), 'mouth_left': (345, 259), 'mouth_right': (416, 255)}}]\n",
      "rectangle -> [{'box': [284, 81, 176, 219], 'confidence': 0.9986673593521118, 'keypoints': {'left_eye': (333, 170), 'right_eye': (419, 165), 'nose': (375, 217), 'mouth_left': (343, 258), 'mouth_right': (415, 254)}}]\n",
      "rectangle -> [{'box': [283, 82, 177, 219], 'confidence': 0.998717188835144, 'keypoints': {'left_eye': (332, 171), 'right_eye': (418, 165), 'nose': (374, 217), 'mouth_left': (343, 258), 'mouth_right': (414, 255)}}]\n",
      "rectangle -> [{'box': [282, 82, 176, 220], 'confidence': 0.9981918931007385, 'keypoints': {'left_eye': (330, 170), 'right_eye': (415, 165), 'nose': (371, 215), 'mouth_left': (341, 258), 'mouth_right': (413, 254)}}]\n",
      "rectangle -> [{'box': [280, 82, 177, 220], 'confidence': 0.9989379048347473, 'keypoints': {'left_eye': (328, 169), 'right_eye': (413, 164), 'nose': (369, 213), 'mouth_left': (339, 256), 'mouth_right': (411, 253)}}]\n",
      "rectangle -> [{'box': [276, 91, 175, 218], 'confidence': 0.9995452761650085, 'keypoints': {'left_eye': (323, 176), 'right_eye': (407, 171), 'nose': (365, 219), 'mouth_left': (333, 262), 'mouth_right': (405, 259)}}]\n",
      "rectangle -> [{'box': [274, 85, 177, 221], 'confidence': 0.9988683462142944, 'keypoints': {'left_eye': (323, 173), 'right_eye': (408, 167), 'nose': (365, 218), 'mouth_left': (335, 261), 'mouth_right': (407, 257)}}]\n",
      "rectangle -> [{'box': [275, 83, 179, 223], 'confidence': 0.9982339143753052, 'keypoints': {'left_eye': (325, 173), 'right_eye': (411, 167), 'nose': (367, 219), 'mouth_left': (336, 262), 'mouth_right': (408, 258)}}]\n",
      "rectangle -> [{'box': [276, 84, 177, 220], 'confidence': 0.9984215497970581, 'keypoints': {'left_eye': (325, 174), 'right_eye': (411, 169), 'nose': (367, 219), 'mouth_left': (336, 261), 'mouth_right': (407, 258)}}]\n",
      "rectangle -> [{'box': [276, 84, 177, 220], 'confidence': 0.9984330534934998, 'keypoints': {'left_eye': (326, 174), 'right_eye': (411, 169), 'nose': (367, 219), 'mouth_left': (337, 261), 'mouth_right': (408, 258)}}]\n",
      "rectangle -> [{'box': [275, 84, 179, 222], 'confidence': 0.9980974793434143, 'keypoints': {'left_eye': (325, 173), 'right_eye': (411, 169), 'nose': (367, 219), 'mouth_left': (336, 262), 'mouth_right': (407, 259)}}]\n",
      "rectangle -> [{'box': [282, 90, 173, 214], 'confidence': 0.9992672801017761, 'keypoints': {'left_eye': (329, 173), 'right_eye': (412, 168), 'nose': (369, 215), 'mouth_left': (338, 257), 'mouth_right': (411, 254)}}]\n",
      "rectangle -> [{'box': [281, 92, 171, 212], 'confidence': 0.9992808699607849, 'keypoints': {'left_eye': (328, 173), 'right_eye': (411, 168), 'nose': (369, 213), 'mouth_left': (337, 257), 'mouth_right': (409, 255)}}]\n",
      "rectangle -> [{'box': [278, 82, 177, 222], 'confidence': 0.998553454875946, 'keypoints': {'left_eye': (327, 170), 'right_eye': (412, 166), 'nose': (369, 216), 'mouth_left': (337, 258), 'mouth_right': (409, 256)}}]\n",
      "rectangle -> [{'box': [280, 83, 176, 220], 'confidence': 0.9987874627113342, 'keypoints': {'left_eye': (329, 170), 'right_eye': (414, 166), 'nose': (370, 215), 'mouth_left': (339, 257), 'mouth_right': (410, 255)}}]\n",
      "rectangle -> [{'box': [275, 83, 179, 222], 'confidence': 0.998362123966217, 'keypoints': {'left_eye': (325, 172), 'right_eye': (409, 167), 'nose': (366, 218), 'mouth_left': (336, 261), 'mouth_right': (407, 258)}}]\n",
      "rectangle -> [{'box': [274, 81, 180, 224], 'confidence': 0.9982147216796875, 'keypoints': {'left_eye': (324, 171), 'right_eye': (411, 166), 'nose': (366, 219), 'mouth_left': (336, 262), 'mouth_right': (406, 259)}}]\n",
      "rectangle -> [{'box': [276, 84, 176, 221], 'confidence': 0.9983556866645813, 'keypoints': {'left_eye': (324, 173), 'right_eye': (409, 168), 'nose': (365, 219), 'mouth_left': (335, 262), 'mouth_right': (405, 259)}}]\n"
     ]
    },
    {
     "name": "stdout",
     "output_type": "stream",
     "text": [
      "rectangle -> [{'box': [274, 84, 177, 221], 'confidence': 0.9988172054290771, 'keypoints': {'left_eye': (323, 173), 'right_eye': (408, 168), 'nose': (365, 218), 'mouth_left': (334, 262), 'mouth_right': (405, 258)}}]\n",
      "rectangle -> [{'box': [273, 87, 175, 218], 'confidence': 0.9995637536048889, 'keypoints': {'left_eye': (321, 173), 'right_eye': (404, 168), 'nose': (362, 217), 'mouth_left': (331, 261), 'mouth_right': (403, 257)}}]\n",
      "rectangle -> [{'box': [274, 83, 176, 221], 'confidence': 0.999018669128418, 'keypoints': {'left_eye': (323, 170), 'right_eye': (408, 166), 'nose': (365, 216), 'mouth_left': (334, 259), 'mouth_right': (405, 256)}}]\n",
      "rectangle -> [{'box': [279, 87, 178, 218], 'confidence': 0.9998406171798706, 'keypoints': {'left_eye': (326, 172), 'right_eye': (411, 167), 'nose': (365, 213), 'mouth_left': (336, 259), 'mouth_right': (409, 256)}}]\n",
      "rectangle -> [{'box': [274, 83, 176, 220], 'confidence': 0.9991893172264099, 'keypoints': {'left_eye': (323, 171), 'right_eye': (408, 166), 'nose': (365, 218), 'mouth_left': (333, 260), 'mouth_right': (404, 257)}}]\n",
      "rectangle -> [{'box': [276, 81, 177, 222], 'confidence': 0.9984354376792908, 'keypoints': {'left_eye': (324, 170), 'right_eye': (410, 165), 'nose': (366, 217), 'mouth_left': (335, 260), 'mouth_right': (405, 257)}}]\n",
      "rectangle -> [{'box': [278, 90, 177, 215], 'confidence': 0.9998179078102112, 'keypoints': {'left_eye': (326, 171), 'right_eye': (411, 168), 'nose': (364, 214), 'mouth_left': (333, 258), 'mouth_right': (406, 257)}}]\n",
      "rectangle -> [{'box': [274, 84, 175, 220], 'confidence': 0.9989094734191895, 'keypoints': {'left_eye': (323, 171), 'right_eye': (408, 167), 'nose': (365, 217), 'mouth_left': (334, 260), 'mouth_right': (404, 258)}}]\n",
      "rectangle -> [{'box': [273, 83, 179, 220], 'confidence': 0.999947190284729, 'keypoints': {'left_eye': (317, 168), 'right_eye': (403, 164), 'nose': (357, 216), 'mouth_left': (328, 262), 'mouth_right': (397, 259)}}]\n",
      "rectangle -> [{'box': [273, 83, 176, 221], 'confidence': 0.9993228912353516, 'keypoints': {'left_eye': (323, 172), 'right_eye': (407, 168), 'nose': (364, 219), 'mouth_left': (331, 260), 'mouth_right': (403, 258)}}]\n",
      "rectangle -> [{'box': [272, 84, 176, 221], 'confidence': 0.9992782473564148, 'keypoints': {'left_eye': (322, 172), 'right_eye': (406, 168), 'nose': (363, 219), 'mouth_left': (331, 261), 'mouth_right': (402, 259)}}]\n",
      "rectangle -> [{'box': [273, 85, 176, 219], 'confidence': 0.9993341565132141, 'keypoints': {'left_eye': (322, 172), 'right_eye': (406, 168), 'nose': (363, 219), 'mouth_left': (331, 261), 'mouth_right': (402, 258)}}]\n",
      "rectangle -> [{'box': [270, 83, 183, 222], 'confidence': 0.9999309778213501, 'keypoints': {'left_eye': (319, 171), 'right_eye': (405, 166), 'nose': (360, 216), 'mouth_left': (330, 264), 'mouth_right': (400, 260)}}]\n",
      "rectangle -> [{'box': [273, 86, 176, 218], 'confidence': 0.9993852376937866, 'keypoints': {'left_eye': (322, 173), 'right_eye': (406, 168), 'nose': (363, 219), 'mouth_left': (332, 261), 'mouth_right': (403, 259)}}]\n",
      "rectangle -> [{'box': [274, 91, 174, 216], 'confidence': 0.9996943473815918, 'keypoints': {'left_eye': (321, 175), 'right_eye': (404, 170), 'nose': (362, 219), 'mouth_left': (331, 263), 'mouth_right': (402, 260)}}]\n",
      "rectangle -> [{'box': [265, 85, 185, 223], 'confidence': 0.9998795986175537, 'keypoints': {'left_eye': (315, 175), 'right_eye': (402, 170), 'nose': (357, 220), 'mouth_left': (325, 268), 'mouth_right': (396, 265)}}]\n",
      "rectangle -> [{'box': [268, 86, 181, 221], 'confidence': 0.9999344348907471, 'keypoints': {'left_eye': (315, 173), 'right_eye': (401, 168), 'nose': (356, 219), 'mouth_left': (326, 265), 'mouth_right': (396, 262)}}]\n",
      "rectangle -> [{'box': [271, 86, 179, 220], 'confidence': 0.9999593496322632, 'keypoints': {'left_eye': (315, 172), 'right_eye': (400, 167), 'nose': (353, 218), 'mouth_left': (325, 265), 'mouth_right': (394, 263)}}]\n",
      "rectangle -> [{'box': [277, 93, 172, 213], 'confidence': 0.9994298815727234, 'keypoints': {'left_eye': (325, 178), 'right_eye': (408, 175), 'nose': (365, 223), 'mouth_left': (334, 265), 'mouth_right': (404, 263)}}]\n",
      "rectangle -> [{'box': [272, 96, 173, 213], 'confidence': 0.9991053938865662, 'keypoints': {'left_eye': (325, 183), 'right_eye': (410, 179), 'nose': (369, 228), 'mouth_left': (334, 268), 'mouth_right': (407, 265)}}]\n",
      "rectangle -> [{'box': [273, 82, 177, 220], 'confidence': 0.9994949102401733, 'keypoints': {'left_eye': (324, 170), 'right_eye': (410, 165), 'nose': (369, 217), 'mouth_left': (335, 259), 'mouth_right': (406, 256)}}]\n",
      "rectangle -> [{'box': [272, 86, 176, 217], 'confidence': 0.9999023675918579, 'keypoints': {'left_eye': (323, 172), 'right_eye': (408, 166), 'nose': (367, 215), 'mouth_left': (332, 261), 'mouth_right': (402, 258)}}]\n",
      "rectangle -> [{'box': [268, 90, 173, 214], 'confidence': 0.9998231530189514, 'keypoints': {'left_eye': (318, 175), 'right_eye': (401, 170), 'nose': (363, 221), 'mouth_left': (329, 262), 'mouth_right': (400, 259)}}]\n"
     ]
    }
   ],
   "source": [
    "cap = cv2.VideoCapture(0)\n",
    "while(True):\n",
    "    ret, frame = cap.read()\n",
    "    box = detector.detect_faces(frame)\n",
    "    if(box != []):\n",
    "        frame = drawBox(frame, box)\n",
    "        if detectImage(frame, box):\n",
    "            cv2.putText(frame, 'mask on', (10, 50), cv2.FONT_HERSHEY_COMPLEX, 1, (0, 255, 0), 3)\n",
    "        else:\n",
    "            cv2.putText(frame, 'no mask', (10, 50), cv2.FONT_HERSHEY_COMPLEX, 1, (0, 255, 0), 3)\n",
    "    \n",
    "    cv2.imshow('frame', frame)\n",
    "    \n",
    "    if cv2.waitKey(1) & 0xFF == ord('q'):\n",
    "        break\n",
    "\n",
    "cap.release()\n",
    "cv2.destroyAllWindows()\n",
    "\n",
    "#to plot using matplotlib we have to convert the BGR which is default for the cv2 to the RGB colourQ\n",
    "#img = cv2.cvtColor(frame, cv2.COLOR_BGR2RGB)\n",
    "#             cv2.putText(rect_img, 'no mask', cv2.FONT_HERSHEY_COMPLEX, tuple(80, 50), 2, (0, 255, 0), 2)\n"
   ]
  },
  {
   "cell_type": "code",
   "execution_count": 23,
   "metadata": {},
   "outputs": [],
   "source": [
    "cap.release()\n",
    "cv2.destroyAllWindows()"
   ]
  },
  {
   "cell_type": "code",
   "execution_count": 40,
   "metadata": {},
   "outputs": [
    {
     "data": {
      "text/plain": [
       "array([[2, 3],\n",
       "       [5, 6]])"
      ]
     },
     "execution_count": 40,
     "metadata": {},
     "output_type": "execute_result"
    }
   ],
   "source": [
    "a = np.array([[1,2,3],[4, 5, 6], [7, 8, 9]])\n",
    "a[0:2, 1:3]"
   ]
  }
 ],
 "metadata": {
  "kernelspec": {
   "display_name": "Python 3",
   "language": "python",
   "name": "python3"
  },
  "language_info": {
   "codemirror_mode": {
    "name": "ipython",
    "version": 3
   },
   "file_extension": ".py",
   "mimetype": "text/x-python",
   "name": "python",
   "nbconvert_exporter": "python",
   "pygments_lexer": "ipython3",
   "version": "3.8.3"
  }
 },
 "nbformat": 4,
 "nbformat_minor": 4
}
