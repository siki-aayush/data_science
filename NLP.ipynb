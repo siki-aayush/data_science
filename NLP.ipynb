{
 "cells": [
  {
   "cell_type": "code",
   "execution_count": 1,
   "metadata": {},
   "outputs": [],
   "source": [
    "import pandas as pd\n",
    "import numpy as np\n",
    "import matplotlib.pyplot as plt\n",
    "import tensorflow as tf\n",
    "from tensorflow.keras.losses import sparse_categorical_crossentropy"
   ]
  },
  {
   "cell_type": "code",
   "execution_count": 2,
   "metadata": {},
   "outputs": [],
   "source": [
    "path_to_file = 'shakespeare.txt'"
   ]
  },
  {
   "cell_type": "code",
   "execution_count": 3,
   "metadata": {},
   "outputs": [],
   "source": [
    "text = open(path_to_file, 'r').read()"
   ]
  },
  {
   "cell_type": "code",
   "execution_count": 4,
   "metadata": {},
   "outputs": [
    {
     "name": "stdout",
     "output_type": "stream",
     "text": [
      " sullied night,\n",
      "    And all in war with Time for love of you,\n",
      "    As he takes from you, I engraft you new.\n",
      "\n",
      "\n",
      "                     16  \n",
      "  But wherefore do not you a mightier way\n",
      "  Make war upon this bloody tyrant Time?\n",
      "  And fortify your self in your decay\n",
      "  With means more blessed than my barren rhyme?\n",
      "  Now stand you on the top of happy hours,\n",
      "  And many maiden gardens yet unset,\n",
      "  With virtuous wish would bear you living flowers,\n",
      "  Much liker than your painted counterfeit:\n",
      "  So should the lines of life that life repair\n",
      "  Which this (Time's pencil) or my pupil pen\n",
      "  Neither in inward worth nor outward fair\n",
      "  Can make you live your self in eyes of men.\n",
      "    To give away your self, keeps your self still,\n",
      "    And you must live drawn by your own sweet skill.\n",
      "\n",
      "\n",
      "                     17\n",
      "  Who will believe my verse in time to come\n",
      "  If it were filled with your most high deserts?\n",
      "  Though yet heaven knows it is but as a tomb\n",
      "  Which hides your life, and shows not half your parts:  \n",
      "  If I could write the beauty of your eyes,\n",
      "  And in fresh numbers number all your graces,\n",
      "  The age to come would say this poet lies,\n",
      "  Such heavenly touches ne'er touched earthly faces.\n",
      "  So should my papers (yellowed with their age)\n",
      "  Be scorned, like old men of less truth than tongue,\n",
      "  And your true rights be termed a poet's rage,\n",
      "  And stretched metre of an antique song.\n",
      "    But were some child of yours alive that time,\n",
      "    You should live twice in it, and in my rhyme.\n",
      "\n",
      "\n",
      "                     18\n",
      "  Shall I compare thee to a summer's day?\n",
      "  Thou art more lovely and more temperate:\n",
      "  Rough winds do shake the darling buds of May,\n",
      "  And summer's lease hath all too short a date:\n",
      "  Sometime too hot the eye of heaven shines,\n",
      "  And often is his gold complexion dimmed,\n",
      "  And every fair from fair sometime declines,\n",
      "  By chance, or nature's changing course untrimmed:  \n",
      "  But thy eternal summer shall not fade,\n",
      "  Nor lose possession of that fair thou ow'st,\n",
      "  Nor shall death brag thou wand'rest in his shade,\n",
      "  When in eternal lines to time thou grow'st,\n",
      "    So long as men can breathe or eyes can see,\n",
      "    So long lives this, and this gives life to thee.\n",
      "\n",
      "\n",
      "                     19\n",
      "  Devouring Time blunt thou the lion's paws,\n",
      "  And make the earth devour her own sweet brood,\n",
      "  Pluck the keen teeth from the fierce tiger's jaws,\n",
      "  And burn the long-lived phoenix, in her blood,\n",
      "  Make glad and sorry seasons as thou fleet'st,\n",
      "  And do whate'er thou wilt swift-footed Time\n",
      "  To the wide world and all her fading sweets:\n",
      "  But I forbid thee one most heinous crime,\n",
      "  O carve not with thy hours my love's fair brow,\n",
      "  Nor draw no lines there with thine antique pen,\n",
      "  Him in thy course untainted do allow,\n",
      "  For beauty's pattern to succeeding men.  \n",
      "    Yet do thy worst old Time: despite thy wrong,\n",
      "    My love shall in my verse ever live young.\n",
      "\n",
      "\n",
      "                     20\n",
      "  A woman's face with nature's own hand painted,\n",
      "  Hast thou the master mistress of my passion,\n",
      "  A woman's gentle heart but not acquainted\n",
      "  With shifting change as is false women's fashion,\n",
      "  An eye more bright than theirs, less false in rolling:\n",
      "  Gilding the object whereupon it gazeth,\n",
      "  A man in hue all hues in his controlling,\n",
      "  Which steals men's eyes and women's souls amazeth.\n",
      "  And for a woman wert thou first created,\n",
      "  Till nature as she wrought thee fell a-doting,\n",
      "  And by addition me of thee defeated,\n",
      "  By adding one thing to my purpose nothing.\n",
      "    But since she pricked thee out for women's pleasure,\n",
      "    Mine be thy love and thy love's use their treasure.\n",
      "\n",
      "\n",
      "                     21  \n",
      "  So is it not with me as with that muse,\n",
      "  Stirred by a painted beauty to his verse,\n",
      "  Who heaven it self for ornament doth use,\n",
      "  And every fair with his fair doth rehearse,\n",
      "  Making a couplement of proud compare\n",
      "  With sun and moon, with earth and sea's rich gems:\n",
      "  With April's first-born flowers and all things rare,\n",
      "  That heaven's air in this huge rondure hems.\n",
      "  O let me true in love but truly write,\n",
      "  And then believe me, my love is as fair,\n",
      "  As any mother's child, though not so bright\n",
      "  As those gold candles fixed in heaven's air:\n",
      "    Let them say more that like of hearsay well,\n",
      "    I will not praise that purpose not to sell.\n",
      "\n",
      "\n",
      "                     22\n",
      "  My glass shall not persuade me I am old,\n",
      "  So long as youth and thou are of one date,\n",
      "  But when in thee time's furrows I behold,\n",
      "  Then look I death my days should expiate.  \n",
      "  For all that beauty that doth cover thee,\n",
      "  Is but the seemly raiment of my heart,\n",
      "  Which in thy breast doth live, as thine in me,\n",
      "  How can I then be elder than thou art?\n",
      "  O therefore love be of thyself so wary,\n",
      "  As I not for my self, but for thee will,\n",
      "  Bearing thy heart which I will keep so chary\n",
      "  As tender nurse her babe from faring ill.\n",
      "    Presume not on thy heart when mine is slain,\n",
      "    Thou gav'st me thine not to give back again.\n",
      "\n",
      "\n",
      "                     23\n",
      "  As an unperfect actor on the stage,\n",
      "  Who with his fear is put beside his part,\n",
      "  Or some fierce thing replete with too much rage,\n",
      "  Whose strength's abundance weakens his own heart;\n",
      "  So I for fear of trust, forget to say,\n",
      "  The perfect ceremony of love's rite,\n",
      "  And in mine own love's strength seem to decay,\n",
      "  O'ercharged with burthen of mine own love's might:  \n",
      "  O let my looks be then the eloquence,\n",
      "  And dumb presagers of my speaking breast,\n",
      "  Who plead for love, and look for recompense,\n",
      "  More than that tongue that more hath more expressed.\n",
      "    O learn to read what silent love hath writ,\n",
      "    To hear with eyes belongs to love's fine wit.\n",
      "\n",
      "\n",
      "                     24\n",
      "  Mine eye hath played the painter and hath stelled,\n",
      "  Thy beauty's form in table of my heart,\n",
      "  My body is the frame wherein 'tis held,\n",
      "  And perspective it is best painter's art.\n",
      "  For through the painter must you see his skill,\n",
      "  To find where your true image pictured lies,\n",
      "  Which in my bosom's shop is hanging still,\n",
      "  That hath his windows glazed with thine eyes:\n",
      "  Now see what good turns eyes for eyes have done,\n",
      "  Mine eyes have drawn thy shape, and thine for me\n",
      "  Are windows to my breast, where-through the sun\n",
      "  Delights to peep, to gaze therein on thee;  \n",
      "    Yet eyes this cunning want to grace their art,\n",
      "    They draw but what they see, know not the heart.\n",
      "\n",
      "\n",
      "                     25\n",
      "  Let those who are in favour with their stars,\n",
      "  Of public honour and proud titles boast,\n",
      "  Whilst I whom fortune of such triumph bars\n",
      "  Unlooked for joy in that I honour most;\n",
      "  Great princes' favourites their fair leaves spread,\n",
      "  But as the marigold at the sun's eye,\n",
      "  And in themselves their pride lies buried,\n",
      "  For at a frown they in their glory die.\n",
      "  The painful warrior famoused for fight,\n",
      "  After a thousand victories once foiled,\n",
      "  Is from the book of honour razed quite,\n",
      "  And all the rest forgot for which he toiled:\n",
      "    Then happy I that love and am beloved\n",
      "    Where I may not remove nor be removed.\n",
      "\n",
      "\n",
      "                     26  \n",
      "  Lord of my love, to whom in vassalage\n",
      "  Thy merit hath my duty strongly knit;\n",
      "  To thee I send this written embassage\n",
      "  To witness duty, not to show my wit.\n",
      "  Duty so great, which wit so poor as mine\n",
      "  May make seem bare, in wanting words to show it;\n",
      "  But that I hope some good conceit of thine\n",
      "  In thy soul's thought (all naked) will bestow it:\n",
      "  Till whatsoever star that guides my moving,\n",
      "  Points on me graciously with fair aspect,\n",
      "  And puts apparel on my tattered loving,\n",
      "  To show me worthy of thy sweet respect,\n",
      "    Then may I dare to boast how I do love thee,\n",
      "    Till then, not show my head where thou mayst prove me.\n",
      "\n",
      "\n",
      "                     27\n",
      "  Weary with toil, I haste me to my bed,\n",
      "  The dear respose for limbs with travel tired,\n",
      "  But then begins a journey in my head\n",
      "  To work my mind, when body's work's expired.  \n",
      "  For then my thoughts (from far where I abide)\n",
      "  Intend a zealous pilgrimage to thee,\n",
      "  And keep my drooping eyelids open wide,\n",
      "  Looking on darkness which the blind do see.\n",
      "  Save that my soul's imaginary sight\n",
      "  Presents thy shadow to my sightless view,\n",
      "  Which like a jewel (hung in ghastly night)\n",
      "  Makes black night beauteous, and her old face new.\n",
      "    Lo thus by day my limbs, by night my mind,\n",
      "    For thee, and for my self, no quiet find.\n",
      "\n",
      "\n",
      "                     28\n",
      "  How can I then return in happy plight\n",
      "  That am debarred the benefit of rest?\n",
      "  When day's oppression is not eased by night,\n",
      "  But day by night and night by day oppressed.\n",
      "  And each (though enemies to either's reign)\n",
      "  Do in consent shake hands to torture me,\n",
      "  The one by toil, the other to complain\n",
      "  How far I toil, still farther off from thee.  \n",
      "  I tell the day to please him thou art bright,\n",
      "  And dost him grace when clouds do blot the heaven:\n",
      "  So flatter I the swart-complexioned night,\n",
      "  When sparkling stars twire not thou gild'st the even.\n",
      "    But day doth daily draw my sorrows longer,\n",
      "    And night doth nightly make grief's length seem stronger\n",
      "\n",
      "\n",
      "                     29\n",
      "  When in disgrace with Fortune and men's eyes,\n",
      "  I all alone beweep my outcast state,\n",
      "  And trouble deaf heaven with my bootless cries,\n",
      "  And look upon my self and curse my fate,\n",
      "  Wishing me like to one more rich in hope,\n",
      "  Featured like him, like him with friends possessed,\n",
      "  Desiring this man's art, and that man's scope,\n",
      "  With what I most enjoy contented least,\n",
      "  Yet in these thoughts my self almost despising,\n",
      "  Haply I think on thee, and then my state,\n",
      "  (Like to the lark at break of day arising\n",
      "  From sullen earth) sings hymns at heaven's gate,  \n",
      "    For thy sweet love remembered such wealth brings,\n",
      "    That then I scorn to change my state with kings.\n",
      "\n",
      "\n",
      "                     30\n",
      "  When to the sessions of sweet silent thought,\n",
      "  I summon up remembrance of things past,\n",
      "  I sigh the lack of many a thing I sought,\n",
      "  And with old woes new wail my dear time's waste:\n",
      "  Then can I drown an eye (unused to flow)\n",
      "  For precious friends hid in death's dateless night,\n",
      "  And weep afresh love's long since cancelled woe,\n",
      "  And moan th' expense of many a vanished sight.\n",
      "  Then can I grieve at grievances foregone,\n",
      "  And heavily from woe to woe tell o'er\n",
      "  The sad account of fore-bemoaned moan,\n",
      "  Which I new pay as if not paid before.\n",
      "    But if the while I think on thee (dear friend)\n",
      "    All losses are restored, and sorrows end.\n",
      "\n",
      "\n",
      "                     31  \n",
      "  Thy bosom is endeared with all hearts,\n",
      "  Which I by lacking have supposed dead,\n",
      "  And there reigns love and all love's loving parts,\n",
      "  And all those friends which I thought buried.\n",
      "  How many a holy and obsequious tear\n",
      "  Hath dear religious love stol'n from mine eye,\n",
      "  As interest of the dead, which now appear,\n",
      "  But things removed that hidden in thee lie.\n",
      "  Thou art the grave where buried love doth live,\n",
      "  Hung with the trophies of my lovers gone,\n",
      "  Who all their parts of me to thee did give,\n",
      "  That due of many, now is thine alone.\n",
      "    Their images I loved, I view in thee,\n",
      "    And thou (all they) hast all the all of me.\n",
      "\n",
      "\n",
      "                     32\n",
      "  If thou survive my well-contented day,\n",
      "  When that churl death my bones with dust shall cover\n",
      "  And shalt by fortune once more re-survey\n",
      "  These poor rude lines of thy deceased lover:  \n",
      "  Compare them with the bett'ring of the time,\n",
      "  And though they be outstripped by every pen,\n",
      "  Reserve them for my love, not for their rhyme,\n",
      "  Exceeded by the height of happier men.\n",
      "  O then vouchsafe me but this loving thought,\n",
      "  'Had my friend's Muse grown with this growing age,\n",
      "  A dearer birth than this his love had brought\n",
      "  To march in ranks of better equipage:\n",
      "    But since he died and poets better prove,\n",
      "    Theirs for their style I'll read, his for his love'.\n",
      "\n",
      "\n",
      "                     33\n",
      "  Full many a glorious morning have I seen,\n",
      "  Flatter the mountain tops with sovereign eye,\n",
      "  Kissing with golden face the meadows green;\n",
      "  Gilding pale streams with heavenly alchemy:\n",
      "  Anon permit the basest clouds to ride,\n",
      "  With ugly rack on his celestial face,\n",
      "  And from the forlorn world his visage hide\n",
      "  Stealing unseen to west with this disgrace:  \n",
      "  Even so my sun one early morn did shine,\n",
      "  With all triumphant splendour on my brow,\n",
      "  But out alack, he was but one hour mine,\n",
      "  The region cloud hath masked him from me now.\n",
      "    Yet him for this, my love no whit disdaineth,\n",
      "    Suns of the world may stain, when heaven's sun staineth.\n",
      "\n",
      "\n",
      "                     34\n",
      "  Why didst thou promise such a beauteous day,\n",
      "  And make me travel forth without my cloak,\n",
      "  To let base clouds o'ertake me in my way,\n",
      "  Hiding thy brav'ry in their rotten smoke?\n",
      "  'Tis not enough that through the cloud thou break,\n",
      "  To dry the rain on my storm-beaten face,\n",
      "  For no man well of such a salve can speak,\n",
      "  That heals the wound, and cures not the disgrace:\n",
      "  Nor can thy shame give physic to my grief,\n",
      "  Though thou repent, yet I have still the loss,\n",
      "  Th' offender's sorrow lends but weak relief\n",
      "  To him that bears the strong offence's cross.  \n",
      "    Ah but those tears are pearl which thy love sheds,\n",
      "    And they are rich, and ransom all ill deeds.\n",
      "\n",
      "\n",
      "                     35\n",
      "  No more be grieved at that which thou hast done,\n",
      "  Roses have thorns, and silver fountains mud,\n",
      "  Clouds and eclipses stain both moon and sun,\n",
      "  And loathsome canker lives in sweetest bud.\n",
      "  All men make faults, and even I in this,\n",
      "  Authorizing thy trespass with compare,\n",
      "  My self corrupting salving thy amiss,\n",
      "  Excusing thy sins more than thy sins are:\n",
      "  For to thy sensual fault I bring in sense,\n",
      "  Thy adverse party is thy advocate,\n",
      "  And 'gainst my self a lawful plea commence:\n",
      "  Such civil war is in my love and hate,\n",
      "    That I an accessary needs must be,\n",
      "    To that sweet thief which sourly robs from me.\n",
      "\n",
      "\n",
      "                     36  \n",
      "  Let me confess that we two must be twain,\n",
      "  Although our undivided loves are one:\n",
      "  So shall those blots that do with me remain,\n",
      "  Without thy help, by me be borne alone.\n",
      "  In our two loves there is but one respect,\n",
      "  Though in our lives a separable spite,\n",
      "  Which though it alter not love's sole effect,\n",
      "  Yet doth it steal sweet hours from love's delight.\n",
      "  I may not evermore acknowledge thee,\n",
      "  Lest my bewailed guilt should do thee shame,\n",
      "  Nor thou with public kindness honour me,\n",
      "  Unless thou take that honour from thy name:\n",
      "    But do not so, I love thee in such sort,\n",
      "    As thou being mine, mine is thy good report.\n",
      "\n",
      "\n",
      "                     37\n",
      "  As a decrepit father takes delight,\n",
      "  To see his active child do deeds of youth,\n",
      "  So I, made lame by Fortune's dearest spite\n",
      "  Take all my comfort of thy worth and truth.  \n",
      "  For whether beauty, birth, or wealth, or wit,\n",
      "  Or any of these all, or all, or more\n",
      "  Entitled in thy parts, do crowned sit,\n",
      "  I make my love engrafted to this store:\n",
      "  So then I am not lame, poor, nor despised,\n",
      "  Whilst that this shadow doth such substance give,\n",
      "  That I in thy abundance am sufficed,\n",
      "  And by a part of all thy glory live:\n",
      "    Look what is best, that best I wish in thee,\n",
      "    This wish I have, then ten times happy me.\n",
      "\n",
      "\n",
      "                     38\n",
      "  How can my muse want subject to invent\n",
      "  While thou dost breathe that pour'st into my verse,\n",
      "  Thine own sweet argument, too excellent,\n",
      "  For every vulgar paper to rehearse?\n",
      "  O give thy self the thanks if aught in me,\n",
      "  Worthy perusal stand against thy sight,\n",
      "  For who's so dumb that cannot write to thee,\n",
      "  When thou thy self dost give invention light?  \n",
      "  Be thou the tenth Muse, ten times more in worth\n",
      "  Than those old nine which rhymers invocate,\n",
      "  And he that calls on thee, let him bring forth\n",
      "  Eternal numbers to outlive long date.\n",
      "    If my slight muse do please these curious days,\n",
      "    The pain be mine, but thine shall be the praise.\n",
      "\n",
      "\n",
      "                     39\n",
      "  O how thy worth with manners may I sing,\n",
      "  When thou art all the better part of me?\n",
      "  What can mine own praise to mine own self bring:\n",
      "  And what is't but mine own when I praise thee?\n",
      "  Even for this, let us divided live,\n",
      "  And our dear love lose name of single one,\n",
      "  That by this separation I may give:\n",
      "  That due to thee which thou deserv'st alone:\n",
      "  O absence what a torment wouldst thou prove,\n",
      "  Were it not thy sour leisure gave sweet leave,\n",
      "  To entertain the time with thoughts of love,\n",
      "  Which time and thoughts so sweetly doth deceive.  \n",
      "    And that thou teachest how to make one twain,\n",
      "    By praising him here who doth hence remain.\n",
      "\n",
      "\n",
      "                     40\n",
      "  Take all my loves, my love, yea take them all,\n",
      "  What hast thou then more than thou hadst before?\n",
      "  No love, my love, that thou mayst true love call,\n",
      "  All mine was thine, before thou hadst this more:\n",
      "  Then if for my love, thou my love receivest,\n",
      "  I cannot blame thee, for my love thou usest,\n",
      "  But yet be blamed, if thou thy self deceivest\n",
      "  By wilful taste of what thy self refusest.\n",
      "  I do forgive thy robbery gentle thief\n",
      "  Although thou steal thee all my poverty:\n",
      "  And yet love knows it is a greater grief\n",
      "  To bear greater wrong, than hate's known injury.\n",
      "    Lascivious grace, in whom all ill well shows,\n",
      "    Kill me with spites yet we must not be foes.\n",
      "\n",
      "\n",
      "                     41  \n",
      "  Those pretty wrongs that liberty commits,\n",
      "  When I am sometime absent from thy heart,\n",
      "  Thy beauty, and thy years full well befits,\n",
      "  For still temptation follows where thou art.\n",
      "  Gentle thou art, and therefore to be won,\n",
      "  Beauteous thou art, therefore to be assailed.\n",
      "  And when a woman woos, what woman's son,\n",
      "  Will sourly leave her till he have prevailed?\n",
      "  Ay me, but yet thou mightst my seat forbear,\n",
      "  And chide thy beauty, and thy straying youth,\n",
      "  Who lead thee in their riot even there\n",
      "  Where thou art forced to break a twofold truth:\n",
      "    Hers by thy beauty tempting her to thee,\n",
      "    Thine by thy beauty being false to me.\n",
      "\n",
      "\n",
      "                     42\n",
      "  That thou hast her it is not all my grief,\n",
      "  And yet it may be said I loved her dearly,\n",
      "  That she hath thee is of my wailing chief,\n",
      "  A loss in love that touches me more nearly.  \n",
      "  Loving offenders thus I will excuse ye,\n",
      "  Thou dost love her, because thou know'st I love her,\n",
      "  And for my sake even so doth she abuse me,\n",
      "  Suff'ring my friend for my sake to approve her.\n",
      "  If I lose thee, my loss is my love's gain,\n",
      "  And losing her, my friend hath found that loss,\n",
      "  Both find each other, and I lose both twain,\n",
      "  And both for my sake lay on me this cross,\n",
      "    But here's the joy, my friend and I are one,\n",
      "    Sweet flattery, then she loves but me alone.\n",
      "\n",
      "\n",
      "                     43\n",
      "  When most I wink then do mine eyes best see,\n",
      "  For all the day they view things unrespected,\n",
      "  But when I sleep, in dreams they look on thee,\n",
      "  And darkly bright, are bright in dark directed.\n",
      "  Then thou whose shadow shadows doth make bright\n",
      "  How would thy shadow's form, form happy show,\n",
      "  To the clear day with thy much clearer light,\n",
      "  When to unseeing eyes thy shade shines so!  \n",
      "  How would (I say) mine eyes be blessed made,\n",
      "  By looking on thee in the living day,\n",
      "  When in dead night thy fair imperfect shade,\n",
      "  Through heavy sleep on sightless eyes doth stay!\n",
      "    All days are nights to see till I see thee,\n",
      "    And nights bright days when dreams do show thee me.\n",
      "\n",
      "\n",
      "                     44\n",
      "  If the dull substance of my flesh were thought,\n",
      "  Injurious distance should not stop my way,\n",
      "  For then despite of space I would be brought,\n",
      "  From limits far remote, where thou dost stay,\n",
      "  No matter then although my foot did stand\n",
      "  Upon the farthest earth removed from thee,\n",
      "  For nimble thought can jump both sea and land,\n",
      "  As soon as think the place where he would be.\n",
      "  But ah, thought kills me that I am not thought\n",
      "  To leap large lengths of miles when thou art gone,\n",
      "  But that so much of earth and water wrought,\n",
      "  I must attend, time's leisure with my moan.  \n",
      "    Receiving nought by elements so slow,\n",
      "    But heavy tears, badges of either's woe.\n",
      "\n",
      "\n",
      "                     45\n",
      "  The other two, slight air, and purging fire,\n",
      "  Are both with thee, wherever I abide,\n",
      "  The first my thought, the other my desire,\n",
      "  These present-absent with swift motion slide.\n",
      "  For when these quicker elements are gone\n",
      "  In tender embassy of love to thee,\n",
      "  My life being made \n"
     ]
    }
   ],
   "source": [
    "print(text[10000:30000])"
   ]
  },
  {
   "cell_type": "code",
   "execution_count": 5,
   "metadata": {},
   "outputs": [],
   "source": [
    "vocab = sorted(set(text))"
   ]
  },
  {
   "cell_type": "code",
   "execution_count": 6,
   "metadata": {},
   "outputs": [],
   "source": [
    "# vocab"
   ]
  },
  {
   "cell_type": "code",
   "execution_count": 7,
   "metadata": {},
   "outputs": [
    {
     "data": {
      "text/plain": [
       "84"
      ]
     },
     "execution_count": 7,
     "metadata": {},
     "output_type": "execute_result"
    }
   ],
   "source": [
    "len(vocab)"
   ]
  },
  {
   "cell_type": "code",
   "execution_count": 8,
   "metadata": {},
   "outputs": [],
   "source": [
    "# for pair in enumerate(vocab):\n",
    "#     print(pair)"
   ]
  },
  {
   "cell_type": "code",
   "execution_count": 9,
   "metadata": {},
   "outputs": [
    {
     "data": {
      "text/plain": [
       "33"
      ]
     },
     "execution_count": 9,
     "metadata": {},
     "output_type": "execute_result"
    }
   ],
   "source": [
    "char_to_ind = {char:ind for ind, char in enumerate(vocab)}\n",
    "char_to_ind['H']"
   ]
  },
  {
   "cell_type": "code",
   "execution_count": 10,
   "metadata": {},
   "outputs": [
    {
     "data": {
      "text/plain": [
       "array(['\\n', ' ', '!', '\"', '&', \"'\", '(', ')', ',', '-', '.', '0', '1',\n",
       "       '2', '3', '4', '5', '6', '7', '8', '9', ':', ';', '<', '>', '?',\n",
       "       'A', 'B', 'C', 'D', 'E', 'F', 'G', 'H', 'I', 'J', 'K', 'L', 'M',\n",
       "       'N', 'O', 'P', 'Q', 'R', 'S', 'T', 'U', 'V', 'W', 'X', 'Y', 'Z',\n",
       "       '[', ']', '_', '`', 'a', 'b', 'c', 'd', 'e', 'f', 'g', 'h', 'i',\n",
       "       'j', 'k', 'l', 'm', 'n', 'o', 'p', 'q', 'r', 's', 't', 'u', 'v',\n",
       "       'w', 'x', 'y', 'z', '|', '}'], dtype='<U1')"
      ]
     },
     "execution_count": 10,
     "metadata": {},
     "output_type": "execute_result"
    }
   ],
   "source": [
    "ind_to_char = np.array(vocab)\n",
    "ind_to_char"
   ]
  },
  {
   "cell_type": "code",
   "execution_count": 11,
   "metadata": {},
   "outputs": [
    {
     "data": {
      "text/plain": [
       "'H'"
      ]
     },
     "execution_count": 11,
     "metadata": {},
     "output_type": "execute_result"
    }
   ],
   "source": [
    "ind_to_char[33]"
   ]
  },
  {
   "cell_type": "code",
   "execution_count": 12,
   "metadata": {},
   "outputs": [],
   "source": [
    "encoded_text = np.array([char_to_ind[c] for c in text])"
   ]
  },
  {
   "cell_type": "code",
   "execution_count": 13,
   "metadata": {},
   "outputs": [
    {
     "data": {
      "text/plain": [
       "(5445609,)"
      ]
     },
     "execution_count": 13,
     "metadata": {},
     "output_type": "execute_result"
    }
   ],
   "source": [
    "encoded_text.shape"
   ]
  },
  {
   "cell_type": "code",
   "execution_count": 14,
   "metadata": {},
   "outputs": [
    {
     "name": "stdout",
     "output_type": "stream",
     "text": [
      "\n",
      "                     1\n",
      "  From fairest creatures we desire increase,\n",
      "  That thereby beauty's rose might never die,\n",
      "  But as the riper should by time decease,\n",
      "  His tender heir might bear his memory:\n",
      "  But thou contracted to thine own bright eyes,\n",
      "  Feed'st thy light's flame with self-substantial fuel,\n",
      "  Making a famine where abundance lies,\n",
      "  Thy self thy foe, to thy sweet self too cruel:\n",
      "  Thou that art now the world's fresh ornament,\n",
      "  And only herald to the gaudy spring,\n",
      "  Within thine own bu\n"
     ]
    }
   ],
   "source": [
    "sample = text[:500]\n",
    "print(sample)"
   ]
  },
  {
   "cell_type": "code",
   "execution_count": 15,
   "metadata": {},
   "outputs": [
    {
     "data": {
      "text/plain": [
       "array([ 0,  1,  1,  1,  1,  1,  1,  1,  1,  1,  1,  1,  1,  1,  1,  1,  1,\n",
       "        1,  1,  1,  1,  1, 12,  0,  1,  1, 31, 73, 70, 68,  1, 61, 56, 64,\n",
       "       73, 60, 74, 75,  1, 58, 73, 60, 56, 75, 76, 73, 60, 74,  1, 78, 60,\n",
       "        1, 59, 60, 74, 64, 73, 60,  1, 64, 69, 58, 73, 60, 56, 74, 60,  8,\n",
       "        0,  1,  1, 45, 63, 56, 75,  1, 75, 63, 60, 73, 60, 57, 80,  1, 57,\n",
       "       60, 56, 76, 75, 80,  5, 74,  1, 73, 70, 74, 60,  1, 68, 64, 62, 63,\n",
       "       75,  1, 69, 60, 77, 60, 73,  1, 59, 64, 60,  8,  0,  1,  1, 27, 76,\n",
       "       75,  1, 56, 74,  1, 75, 63, 60,  1, 73, 64, 71, 60, 73,  1, 74, 63,\n",
       "       70, 76, 67, 59,  1, 57, 80,  1, 75, 64, 68, 60,  1, 59, 60, 58, 60,\n",
       "       56, 74, 60,  8,  0,  1,  1, 33, 64, 74,  1, 75, 60, 69, 59, 60, 73,\n",
       "        1, 63, 60, 64, 73,  1, 68, 64, 62, 63, 75,  1, 57, 60, 56, 73,  1,\n",
       "       63, 64, 74,  1, 68, 60, 68, 70, 73, 80, 21,  0,  1,  1, 27, 76, 75,\n",
       "        1, 75, 63, 70, 76,  1, 58, 70, 69, 75, 73, 56, 58, 75, 60, 59,  1,\n",
       "       75, 70,  1, 75, 63, 64, 69, 60,  1, 70, 78, 69,  1, 57, 73, 64, 62,\n",
       "       63, 75,  1, 60, 80, 60, 74,  8,  0,  1,  1, 31, 60, 60, 59,  5, 74,\n",
       "       75,  1, 75, 63, 80,  1, 67, 64, 62, 63, 75,  5, 74,  1, 61, 67, 56,\n",
       "       68, 60,  1, 78, 64, 75, 63,  1, 74, 60, 67, 61,  9, 74, 76, 57, 74,\n",
       "       75, 56, 69, 75, 64, 56, 67,  1, 61, 76, 60, 67,  8,  0,  1,  1, 38,\n",
       "       56, 66, 64, 69, 62,  1, 56,  1, 61, 56, 68, 64, 69, 60,  1, 78, 63,\n",
       "       60, 73, 60,  1, 56, 57, 76, 69, 59, 56, 69, 58, 60,  1, 67, 64, 60,\n",
       "       74,  8,  0,  1,  1, 45, 63, 80,  1, 74, 60, 67, 61,  1, 75, 63, 80,\n",
       "        1, 61, 70, 60,  8,  1, 75, 70,  1, 75, 63, 80,  1, 74, 78, 60, 60,\n",
       "       75,  1, 74, 60, 67, 61,  1, 75, 70, 70,  1, 58, 73, 76, 60, 67, 21,\n",
       "        0,  1,  1, 45, 63, 70, 76,  1, 75, 63, 56, 75,  1, 56, 73, 75,  1,\n",
       "       69, 70, 78,  1, 75, 63, 60,  1, 78, 70, 73, 67, 59,  5, 74,  1, 61,\n",
       "       73, 60, 74, 63,  1, 70, 73, 69, 56, 68, 60, 69, 75,  8,  0,  1,  1,\n",
       "       26, 69, 59,  1, 70, 69, 67, 80,  1, 63, 60, 73, 56, 67, 59,  1, 75,\n",
       "       70,  1, 75, 63, 60,  1, 62, 56, 76, 59, 80,  1, 74, 71, 73, 64, 69,\n",
       "       62,  8,  0,  1,  1, 48, 64, 75, 63, 64, 69,  1, 75, 63, 64, 69, 60,\n",
       "        1, 70, 78, 69,  1, 57, 76])"
      ]
     },
     "execution_count": 15,
     "metadata": {},
     "output_type": "execute_result"
    }
   ],
   "source": [
    "encoded_text[:500]"
   ]
  },
  {
   "cell_type": "code",
   "execution_count": 16,
   "metadata": {},
   "outputs": [],
   "source": [
    "lines = '''\n",
    "From fairest creatures we desire increase,\n",
    "  That thereby beauty's rose might never die,\n",
    "  But as the riper should by time decease,\n",
    "'''\n",
    "seq_len = 120"
   ]
  },
  {
   "cell_type": "code",
   "execution_count": 17,
   "metadata": {},
   "outputs": [
    {
     "data": {
      "text/plain": [
       "45005"
      ]
     },
     "execution_count": 17,
     "metadata": {},
     "output_type": "execute_result"
    }
   ],
   "source": [
    "total_num_seq = len(text) // (seq_len+1)\n",
    "total_num_seq"
   ]
  },
  {
   "cell_type": "code",
   "execution_count": 18,
   "metadata": {},
   "outputs": [],
   "source": [
    "char_dataset = tf.data.Dataset.from_tensor_slices(encoded_text)"
   ]
  },
  {
   "cell_type": "code",
   "execution_count": 19,
   "metadata": {},
   "outputs": [
    {
     "data": {
      "text/plain": [
       "tensorflow.python.data.ops.dataset_ops.TensorSliceDataset"
      ]
     },
     "execution_count": 19,
     "metadata": {},
     "output_type": "execute_result"
    }
   ],
   "source": [
    "type(char_dataset)"
   ]
  },
  {
   "cell_type": "code",
   "execution_count": 20,
   "metadata": {},
   "outputs": [],
   "source": [
    "# for item in char_dataset.take(300):\n",
    "#     print(ind_to_char[item.numpy()])"
   ]
  },
  {
   "cell_type": "code",
   "execution_count": 21,
   "metadata": {},
   "outputs": [],
   "source": [
    "sequences = char_dataset.batch(seq_len+1, drop_remainder=True)"
   ]
  },
  {
   "cell_type": "code",
   "execution_count": 22,
   "metadata": {},
   "outputs": [],
   "source": [
    "def create_seq(seq):\n",
    "    input_text = seq[:-1]\n",
    "    target_text = seq[1:]\n",
    "    return input_text, target_text"
   ]
  },
  {
   "cell_type": "code",
   "execution_count": 23,
   "metadata": {},
   "outputs": [],
   "source": [
    "dataset = sequences.map(create_seq)"
   ]
  },
  {
   "cell_type": "code",
   "execution_count": 24,
   "metadata": {},
   "outputs": [
    {
     "name": "stdout",
     "output_type": "stream",
     "text": [
      "[ 0  1  1  1  1  1  1  1  1  1  1  1  1  1  1  1  1  1  1  1  1  1 12  0\n",
      "  1  1 31 73 70 68  1 61 56 64 73 60 74 75  1 58 73 60 56 75 76 73 60 74\n",
      "  1 78 60  1 59 60 74 64 73 60  1 64 69 58 73 60 56 74 60  8  0  1  1 45\n",
      " 63 56 75  1 75 63 60 73 60 57 80  1 57 60 56 76 75 80  5 74  1 73 70 74\n",
      " 60  1 68 64 62 63 75  1 69 60 77 60 73  1 59 64 60  8  0  1  1 27 76 75]\n",
      "\n",
      "                     1\n",
      "  From fairest creatures we desire increase,\n",
      "  That thereby beauty's rose might never die,\n",
      "  But\n",
      "[ 1  1  1  1  1  1  1  1  1  1  1  1  1  1  1  1  1  1  1  1  1 12  0  1\n",
      "  1 31 73 70 68  1 61 56 64 73 60 74 75  1 58 73 60 56 75 76 73 60 74  1\n",
      " 78 60  1 59 60 74 64 73 60  1 64 69 58 73 60 56 74 60  8  0  1  1 45 63\n",
      " 56 75  1 75 63 60 73 60 57 80  1 57 60 56 76 75 80  5 74  1 73 70 74 60\n",
      "  1 68 64 62 63 75  1 69 60 77 60 73  1 59 64 60  8  0  1  1 27 76 75  1]\n",
      "                     1\n",
      "  From fairest creatures we desire increase,\n",
      "  That thereby beauty's rose might never die,\n",
      "  But \n"
     ]
    }
   ],
   "source": [
    "for input_text, target_text in dataset.take(1):\n",
    "    print(input_text.numpy())\n",
    "    print(''.join(ind_to_char[input_text.numpy()]))\n",
    "    print(target_text.numpy())\n",
    "    print(''.join(ind_to_char[target_text.numpy()]))"
   ]
  },
  {
   "cell_type": "code",
   "execution_count": 25,
   "metadata": {},
   "outputs": [],
   "source": [
    "batch_size = 128"
   ]
  },
  {
   "cell_type": "code",
   "execution_count": 26,
   "metadata": {},
   "outputs": [],
   "source": [
    "buffer_size = 10000\n",
    "dataset = dataset.shuffle(buffer_size).batch(batch_size, drop_remainder=True)"
   ]
  },
  {
   "cell_type": "code",
   "execution_count": 27,
   "metadata": {},
   "outputs": [
    {
     "data": {
      "text/plain": [
       "<BatchDataset shapes: ((128, 120), (128, 120)), types: (tf.int64, tf.int64)>"
      ]
     },
     "execution_count": 27,
     "metadata": {},
     "output_type": "execute_result"
    }
   ],
   "source": [
    "dataset"
   ]
  },
  {
   "cell_type": "code",
   "execution_count": 28,
   "metadata": {},
   "outputs": [
    {
     "data": {
      "text/plain": [
       "84"
      ]
     },
     "execution_count": 28,
     "metadata": {},
     "output_type": "execute_result"
    }
   ],
   "source": [
    "vocab_len = len(vocab)\n",
    "vocab_len"
   ]
  },
  {
   "cell_type": "code",
   "execution_count": 29,
   "metadata": {},
   "outputs": [],
   "source": [
    "embedded_dim = 64"
   ]
  },
  {
   "cell_type": "code",
   "execution_count": 30,
   "metadata": {},
   "outputs": [],
   "source": [
    "rnn_neurons = 1024"
   ]
  },
  {
   "cell_type": "code",
   "execution_count": 53,
   "metadata": {},
   "outputs": [],
   "source": [
    "def sparse_cat_loss(y_true, y_pred):\n",
    "    return sparse_categorical_crossentropy(y_true, y_pred, from_logits=True)"
   ]
  },
  {
   "cell_type": "code",
   "execution_count": 32,
   "metadata": {},
   "outputs": [],
   "source": [
    "from tensorflow.keras.models import Sequential\n",
    "from tensorflow.keras.layers import Embedding, GRU, Dense"
   ]
  },
  {
   "cell_type": "code",
   "execution_count": 33,
   "metadata": {},
   "outputs": [],
   "source": [
    "def create_model(vocab_size, embed_size, rnn_neurons, batch_size):\n",
    "    model  = Sequential()\n",
    "    model.add(Embedding(vocab_size, embed_size, batch_input_shape=[batch_size, None]))\n",
    "    model.add(GRU(rnn_neurons, return_sequences=True, stateful=True, recurrent_initializer='glorot_uniform'))\n",
    "    model.add(Dense(vocab_size))\n",
    "    \n",
    "    model.compile('adam', loss=sparse_cat_loss)\n",
    "    return model"
   ]
  },
  {
   "cell_type": "code",
   "execution_count": 34,
   "metadata": {},
   "outputs": [],
   "source": [
    "model = create_model(vocab_size=vocab_len, embed_size=embedded_dim, rnn_neurons=rnn_neurons, batch_size=batch_size)"
   ]
  },
  {
   "cell_type": "code",
   "execution_count": 35,
   "metadata": {},
   "outputs": [
    {
     "name": "stdout",
     "output_type": "stream",
     "text": [
      "Model: \"sequential\"\n",
      "_________________________________________________________________\n",
      "Layer (type)                 Output Shape              Param #   \n",
      "=================================================================\n",
      "embedding (Embedding)        (128, None, 64)           5376      \n",
      "_________________________________________________________________\n",
      "gru (GRU)                    (128, None, 1024)         3348480   \n",
      "_________________________________________________________________\n",
      "dense (Dense)                (128, None, 84)           86100     \n",
      "=================================================================\n",
      "Total params: 3,439,956\n",
      "Trainable params: 3,439,956\n",
      "Non-trainable params: 0\n",
      "_________________________________________________________________\n"
     ]
    }
   ],
   "source": [
    "model.summary()"
   ]
  },
  {
   "cell_type": "code",
   "execution_count": 36,
   "metadata": {},
   "outputs": [],
   "source": [
    "for input_ex_batch, target_ex_batch in dataset.take(1):\n",
    "    ex_batch_pred = model(input_ex_batch)"
   ]
  },
  {
   "cell_type": "code",
   "execution_count": 37,
   "metadata": {},
   "outputs": [
    {
     "data": {
      "text/plain": [
       "TensorShape([128, 120, 84])"
      ]
     },
     "execution_count": 37,
     "metadata": {},
     "output_type": "execute_result"
    }
   ],
   "source": [
    "ex_batch_pred.shape"
   ]
  },
  {
   "cell_type": "code",
   "execution_count": 38,
   "metadata": {},
   "outputs": [],
   "source": [
    "sample_indeces = tf.random.categorical(ex_batch_pred[0], num_samples=1)"
   ]
  },
  {
   "cell_type": "code",
   "execution_count": 39,
   "metadata": {},
   "outputs": [
    {
     "data": {
      "text/plain": [
       "<tf.Tensor: shape=(120, 1), dtype=int64, numpy=\n",
       "array([[41],\n",
       "       [18],\n",
       "       [43],\n",
       "       [22],\n",
       "       [71],\n",
       "       [31],\n",
       "       [27],\n",
       "       [19],\n",
       "       [78],\n",
       "       [62],\n",
       "       [60],\n",
       "       [69],\n",
       "       [72],\n",
       "       [29],\n",
       "       [68],\n",
       "       [28],\n",
       "       [19],\n",
       "       [19],\n",
       "       [ 4],\n",
       "       [ 5],\n",
       "       [51],\n",
       "       [ 9],\n",
       "       [63],\n",
       "       [ 5],\n",
       "       [61],\n",
       "       [78],\n",
       "       [52],\n",
       "       [31],\n",
       "       [77],\n",
       "       [65],\n",
       "       [52],\n",
       "       [26],\n",
       "       [71],\n",
       "       [51],\n",
       "       [48],\n",
       "       [21],\n",
       "       [53],\n",
       "       [11],\n",
       "       [70],\n",
       "       [78],\n",
       "       [62],\n",
       "       [42],\n",
       "       [39],\n",
       "       [73],\n",
       "       [56],\n",
       "       [37],\n",
       "       [19],\n",
       "       [62],\n",
       "       [65],\n",
       "       [11],\n",
       "       [80],\n",
       "       [10],\n",
       "       [80],\n",
       "       [54],\n",
       "       [53],\n",
       "       [82],\n",
       "       [16],\n",
       "       [51],\n",
       "       [ 5],\n",
       "       [11],\n",
       "       [49],\n",
       "       [78],\n",
       "       [32],\n",
       "       [10],\n",
       "       [32],\n",
       "       [27],\n",
       "       [76],\n",
       "       [28],\n",
       "       [83],\n",
       "       [82],\n",
       "       [60],\n",
       "       [ 0],\n",
       "       [38],\n",
       "       [38],\n",
       "       [14],\n",
       "       [49],\n",
       "       [63],\n",
       "       [10],\n",
       "       [ 2],\n",
       "       [67],\n",
       "       [ 3],\n",
       "       [59],\n",
       "       [66],\n",
       "       [70],\n",
       "       [19],\n",
       "       [59],\n",
       "       [67],\n",
       "       [23],\n",
       "       [ 8],\n",
       "       [50],\n",
       "       [ 5],\n",
       "       [ 2],\n",
       "       [37],\n",
       "       [28],\n",
       "       [36],\n",
       "       [56],\n",
       "       [ 9],\n",
       "       [77],\n",
       "       [47],\n",
       "       [34],\n",
       "       [72],\n",
       "       [36],\n",
       "       [ 8],\n",
       "       [62],\n",
       "       [36],\n",
       "       [59],\n",
       "       [70],\n",
       "       [76],\n",
       "       [ 2],\n",
       "       [ 1],\n",
       "       [44],\n",
       "       [60],\n",
       "       [24],\n",
       "       [69],\n",
       "       [45],\n",
       "       [82],\n",
       "       [17],\n",
       "       [ 8],\n",
       "       [27],\n",
       "       [81]])>"
      ]
     },
     "execution_count": 39,
     "metadata": {},
     "output_type": "execute_result"
    }
   ],
   "source": [
    "sample_indeces"
   ]
  },
  {
   "cell_type": "code",
   "execution_count": 40,
   "metadata": {},
   "outputs": [],
   "source": [
    "sample_indeces = tf.squeeze(sample_indeces, axis=-1).numpy()"
   ]
  },
  {
   "cell_type": "code",
   "execution_count": 41,
   "metadata": {},
   "outputs": [
    {
     "data": {
      "text/plain": [
       "array(['P', '7', 'R', ';', 'p', 'F', 'B', '8', 'w', 'g', 'e', 'n', 'q',\n",
       "       'D', 'm', 'C', '8', '8', '&', \"'\", 'Z', '-', 'h', \"'\", 'f', 'w',\n",
       "       '[', 'F', 'v', 'j', '[', 'A', 'p', 'Z', 'W', ':', ']', '0', 'o',\n",
       "       'w', 'g', 'Q', 'N', 'r', 'a', 'L', '8', 'g', 'j', '0', 'y', '.',\n",
       "       'y', '_', ']', '|', '5', 'Z', \"'\", '0', 'X', 'w', 'G', '.', 'G',\n",
       "       'B', 'u', 'C', '}', '|', 'e', '\\n', 'M', 'M', '3', 'X', 'h', '.',\n",
       "       '!', 'l', '\"', 'd', 'k', 'o', '8', 'd', 'l', '<', ',', 'Y', \"'\",\n",
       "       '!', 'L', 'C', 'K', 'a', '-', 'v', 'V', 'I', 'q', 'K', ',', 'g',\n",
       "       'K', 'd', 'o', 'u', '!', ' ', 'S', 'e', '>', 'n', 'T', '|', '6',\n",
       "       ',', 'B', 'z'], dtype='<U1')"
      ]
     },
     "execution_count": 41,
     "metadata": {},
     "output_type": "execute_result"
    }
   ],
   "source": [
    "ind_to_char[sample_indeces]"
   ]
  },
  {
   "cell_type": "code",
   "execution_count": 42,
   "metadata": {},
   "outputs": [],
   "source": [
    "# model.fit(dataset, epochs=30)"
   ]
  },
  {
   "cell_type": "code",
   "execution_count": 43,
   "metadata": {},
   "outputs": [],
   "source": [
    "from tensorflow.keras.models import load_model"
   ]
  },
  {
   "cell_type": "code",
   "execution_count": 56,
   "metadata": {},
   "outputs": [
    {
     "name": "stdout",
     "output_type": "stream",
     "text": [
      "Model: \"sequential_8\"\n",
      "_________________________________________________________________\n",
      "Layer (type)                 Output Shape              Param #   \n",
      "=================================================================\n",
      "embedding_8 (Embedding)      (1, None, 64)             5376      \n",
      "_________________________________________________________________\n",
      "gru_8 (GRU)                  (1, None, 1024)           3348480   \n",
      "_________________________________________________________________\n",
      "dense_8 (Dense)              (1, None, 84)             86100     \n",
      "=================================================================\n",
      "Total params: 3,439,956\n",
      "Trainable params: 3,439,956\n",
      "Non-trainable params: 0\n",
      "_________________________________________________________________\n"
     ]
    }
   ],
   "source": [
    "model = create_model(vocab_len, embedded_dim, rnn_neurons, batch_size=1)\n",
    "model.summary()\n",
    "# model.load_weights('shakespeare_gen.h5')\n",
    "# model.build(tf.TensorShape[1, None])"
   ]
  },
  {
   "cell_type": "code",
   "execution_count": 45,
   "metadata": {},
   "outputs": [
    {
     "ename": "ValueError",
     "evalue": "Shapes (64, 3072) and (64, 3078) are incompatible",
     "output_type": "error",
     "traceback": [
      "\u001b[0;31m---------------------------------------------------------------------------\u001b[0m",
      "\u001b[0;31mValueError\u001b[0m                                Traceback (most recent call last)",
      "\u001b[0;32m<ipython-input-45-5cac56123252>\u001b[0m in \u001b[0;36m<module>\u001b[0;34m\u001b[0m\n\u001b[0;32m----> 1\u001b[0;31m \u001b[0mmodel\u001b[0m\u001b[0;34m.\u001b[0m\u001b[0mload_weights\u001b[0m\u001b[0;34m(\u001b[0m\u001b[0;34m'shakespeare_gen.h5'\u001b[0m\u001b[0;34m)\u001b[0m\u001b[0;34m\u001b[0m\u001b[0;34m\u001b[0m\u001b[0m\n\u001b[0m",
      "\u001b[0;32m~/.virtualenvs/datascience_env/lib/python3.8/site-packages/tensorflow/python/keras/engine/training.py\u001b[0m in \u001b[0;36mload_weights\u001b[0;34m(self, filepath, by_name, skip_mismatch)\u001b[0m\n\u001b[1;32m    248\u001b[0m         raise ValueError('Load weights is not yet supported with TPUStrategy '\n\u001b[1;32m    249\u001b[0m                          'with steps_per_run greater than 1.')\n\u001b[0;32m--> 250\u001b[0;31m     \u001b[0;32mreturn\u001b[0m \u001b[0msuper\u001b[0m\u001b[0;34m(\u001b[0m\u001b[0mModel\u001b[0m\u001b[0;34m,\u001b[0m \u001b[0mself\u001b[0m\u001b[0;34m)\u001b[0m\u001b[0;34m.\u001b[0m\u001b[0mload_weights\u001b[0m\u001b[0;34m(\u001b[0m\u001b[0mfilepath\u001b[0m\u001b[0;34m,\u001b[0m \u001b[0mby_name\u001b[0m\u001b[0;34m,\u001b[0m \u001b[0mskip_mismatch\u001b[0m\u001b[0;34m)\u001b[0m\u001b[0;34m\u001b[0m\u001b[0;34m\u001b[0m\u001b[0m\n\u001b[0m\u001b[1;32m    251\u001b[0m \u001b[0;34m\u001b[0m\u001b[0m\n\u001b[1;32m    252\u001b[0m   def compile(self,\n",
      "\u001b[0;32m~/.virtualenvs/datascience_env/lib/python3.8/site-packages/tensorflow/python/keras/engine/network.py\u001b[0m in \u001b[0;36mload_weights\u001b[0;34m(self, filepath, by_name, skip_mismatch)\u001b[0m\n\u001b[1;32m   1264\u001b[0m             f, self.layers, skip_mismatch=skip_mismatch)\n\u001b[1;32m   1265\u001b[0m       \u001b[0;32melse\u001b[0m\u001b[0;34m:\u001b[0m\u001b[0;34m\u001b[0m\u001b[0;34m\u001b[0m\u001b[0m\n\u001b[0;32m-> 1266\u001b[0;31m         \u001b[0mhdf5_format\u001b[0m\u001b[0;34m.\u001b[0m\u001b[0mload_weights_from_hdf5_group\u001b[0m\u001b[0;34m(\u001b[0m\u001b[0mf\u001b[0m\u001b[0;34m,\u001b[0m \u001b[0mself\u001b[0m\u001b[0;34m.\u001b[0m\u001b[0mlayers\u001b[0m\u001b[0;34m)\u001b[0m\u001b[0;34m\u001b[0m\u001b[0;34m\u001b[0m\u001b[0m\n\u001b[0m\u001b[1;32m   1267\u001b[0m \u001b[0;34m\u001b[0m\u001b[0m\n\u001b[1;32m   1268\u001b[0m   \u001b[0;32mdef\u001b[0m \u001b[0m_updated_config\u001b[0m\u001b[0;34m(\u001b[0m\u001b[0mself\u001b[0m\u001b[0;34m)\u001b[0m\u001b[0;34m:\u001b[0m\u001b[0;34m\u001b[0m\u001b[0;34m\u001b[0m\u001b[0m\n",
      "\u001b[0;32m~/.virtualenvs/datascience_env/lib/python3.8/site-packages/tensorflow/python/keras/saving/hdf5_format.py\u001b[0m in \u001b[0;36mload_weights_from_hdf5_group\u001b[0;34m(f, layers)\u001b[0m\n\u001b[1;32m    705\u001b[0m                        str(len(weight_values)) + ' elements.')\n\u001b[1;32m    706\u001b[0m     \u001b[0mweight_value_tuples\u001b[0m \u001b[0;34m+=\u001b[0m \u001b[0mzip\u001b[0m\u001b[0;34m(\u001b[0m\u001b[0msymbolic_weights\u001b[0m\u001b[0;34m,\u001b[0m \u001b[0mweight_values\u001b[0m\u001b[0;34m)\u001b[0m\u001b[0;34m\u001b[0m\u001b[0;34m\u001b[0m\u001b[0m\n\u001b[0;32m--> 707\u001b[0;31m   \u001b[0mK\u001b[0m\u001b[0;34m.\u001b[0m\u001b[0mbatch_set_value\u001b[0m\u001b[0;34m(\u001b[0m\u001b[0mweight_value_tuples\u001b[0m\u001b[0;34m)\u001b[0m\u001b[0;34m\u001b[0m\u001b[0;34m\u001b[0m\u001b[0m\n\u001b[0m\u001b[1;32m    708\u001b[0m \u001b[0;34m\u001b[0m\u001b[0m\n\u001b[1;32m    709\u001b[0m \u001b[0;34m\u001b[0m\u001b[0m\n",
      "\u001b[0;32m~/.virtualenvs/datascience_env/lib/python3.8/site-packages/tensorflow/python/keras/backend.py\u001b[0m in \u001b[0;36mbatch_set_value\u001b[0;34m(tuples)\u001b[0m\n\u001b[1;32m   3382\u001b[0m   \u001b[0;32mif\u001b[0m \u001b[0mops\u001b[0m\u001b[0;34m.\u001b[0m\u001b[0mexecuting_eagerly_outside_functions\u001b[0m\u001b[0;34m(\u001b[0m\u001b[0;34m)\u001b[0m\u001b[0;34m:\u001b[0m\u001b[0;34m\u001b[0m\u001b[0;34m\u001b[0m\u001b[0m\n\u001b[1;32m   3383\u001b[0m     \u001b[0;32mfor\u001b[0m \u001b[0mx\u001b[0m\u001b[0;34m,\u001b[0m \u001b[0mvalue\u001b[0m \u001b[0;32min\u001b[0m \u001b[0mtuples\u001b[0m\u001b[0;34m:\u001b[0m\u001b[0;34m\u001b[0m\u001b[0;34m\u001b[0m\u001b[0m\n\u001b[0;32m-> 3384\u001b[0;31m       \u001b[0mx\u001b[0m\u001b[0;34m.\u001b[0m\u001b[0massign\u001b[0m\u001b[0;34m(\u001b[0m\u001b[0mnp\u001b[0m\u001b[0;34m.\u001b[0m\u001b[0masarray\u001b[0m\u001b[0;34m(\u001b[0m\u001b[0mvalue\u001b[0m\u001b[0;34m,\u001b[0m \u001b[0mdtype\u001b[0m\u001b[0;34m=\u001b[0m\u001b[0mdtype\u001b[0m\u001b[0;34m(\u001b[0m\u001b[0mx\u001b[0m\u001b[0;34m)\u001b[0m\u001b[0;34m)\u001b[0m\u001b[0;34m)\u001b[0m\u001b[0;34m\u001b[0m\u001b[0;34m\u001b[0m\u001b[0m\n\u001b[0m\u001b[1;32m   3385\u001b[0m   \u001b[0;32melse\u001b[0m\u001b[0;34m:\u001b[0m\u001b[0;34m\u001b[0m\u001b[0;34m\u001b[0m\u001b[0m\n\u001b[1;32m   3386\u001b[0m     \u001b[0;32mwith\u001b[0m \u001b[0mget_graph\u001b[0m\u001b[0;34m(\u001b[0m\u001b[0;34m)\u001b[0m\u001b[0;34m.\u001b[0m\u001b[0mas_default\u001b[0m\u001b[0;34m(\u001b[0m\u001b[0;34m)\u001b[0m\u001b[0;34m:\u001b[0m\u001b[0;34m\u001b[0m\u001b[0;34m\u001b[0m\u001b[0m\n",
      "\u001b[0;32m~/.virtualenvs/datascience_env/lib/python3.8/site-packages/tensorflow/python/ops/resource_variable_ops.py\u001b[0m in \u001b[0;36massign\u001b[0;34m(self, value, use_locking, name, read_value)\u001b[0m\n\u001b[1;32m    844\u001b[0m     \u001b[0;32mwith\u001b[0m \u001b[0m_handle_graph\u001b[0m\u001b[0;34m(\u001b[0m\u001b[0mself\u001b[0m\u001b[0;34m.\u001b[0m\u001b[0mhandle\u001b[0m\u001b[0;34m)\u001b[0m\u001b[0;34m:\u001b[0m\u001b[0;34m\u001b[0m\u001b[0;34m\u001b[0m\u001b[0m\n\u001b[1;32m    845\u001b[0m       \u001b[0mvalue_tensor\u001b[0m \u001b[0;34m=\u001b[0m \u001b[0mops\u001b[0m\u001b[0;34m.\u001b[0m\u001b[0mconvert_to_tensor\u001b[0m\u001b[0;34m(\u001b[0m\u001b[0mvalue\u001b[0m\u001b[0;34m,\u001b[0m \u001b[0mdtype\u001b[0m\u001b[0;34m=\u001b[0m\u001b[0mself\u001b[0m\u001b[0;34m.\u001b[0m\u001b[0mdtype\u001b[0m\u001b[0;34m)\u001b[0m\u001b[0;34m\u001b[0m\u001b[0;34m\u001b[0m\u001b[0m\n\u001b[0;32m--> 846\u001b[0;31m       \u001b[0mself\u001b[0m\u001b[0;34m.\u001b[0m\u001b[0m_shape\u001b[0m\u001b[0;34m.\u001b[0m\u001b[0massert_is_compatible_with\u001b[0m\u001b[0;34m(\u001b[0m\u001b[0mvalue_tensor\u001b[0m\u001b[0;34m.\u001b[0m\u001b[0mshape\u001b[0m\u001b[0;34m)\u001b[0m\u001b[0;34m\u001b[0m\u001b[0;34m\u001b[0m\u001b[0m\n\u001b[0m\u001b[1;32m    847\u001b[0m       assign_op = gen_resource_variable_ops.assign_variable_op(\n\u001b[1;32m    848\u001b[0m           self.handle, value_tensor, name=name)\n",
      "\u001b[0;32m~/.virtualenvs/datascience_env/lib/python3.8/site-packages/tensorflow/python/framework/tensor_shape.py\u001b[0m in \u001b[0;36massert_is_compatible_with\u001b[0;34m(self, other)\u001b[0m\n\u001b[1;32m   1115\u001b[0m     \"\"\"\n\u001b[1;32m   1116\u001b[0m     \u001b[0;32mif\u001b[0m \u001b[0;32mnot\u001b[0m \u001b[0mself\u001b[0m\u001b[0;34m.\u001b[0m\u001b[0mis_compatible_with\u001b[0m\u001b[0;34m(\u001b[0m\u001b[0mother\u001b[0m\u001b[0;34m)\u001b[0m\u001b[0;34m:\u001b[0m\u001b[0;34m\u001b[0m\u001b[0;34m\u001b[0m\u001b[0m\n\u001b[0;32m-> 1117\u001b[0;31m       \u001b[0;32mraise\u001b[0m \u001b[0mValueError\u001b[0m\u001b[0;34m(\u001b[0m\u001b[0;34m\"Shapes %s and %s are incompatible\"\u001b[0m \u001b[0;34m%\u001b[0m \u001b[0;34m(\u001b[0m\u001b[0mself\u001b[0m\u001b[0;34m,\u001b[0m \u001b[0mother\u001b[0m\u001b[0;34m)\u001b[0m\u001b[0;34m)\u001b[0m\u001b[0;34m\u001b[0m\u001b[0;34m\u001b[0m\u001b[0m\n\u001b[0m\u001b[1;32m   1118\u001b[0m \u001b[0;34m\u001b[0m\u001b[0m\n\u001b[1;32m   1119\u001b[0m   \u001b[0;32mdef\u001b[0m \u001b[0mmost_specific_compatible_shape\u001b[0m\u001b[0;34m(\u001b[0m\u001b[0mself\u001b[0m\u001b[0;34m,\u001b[0m \u001b[0mother\u001b[0m\u001b[0;34m)\u001b[0m\u001b[0;34m:\u001b[0m\u001b[0;34m\u001b[0m\u001b[0;34m\u001b[0m\u001b[0m\n",
      "\u001b[0;31mValueError\u001b[0m: Shapes (64, 3072) and (64, 3078) are incompatible"
     ]
    }
   ],
   "source": []
  },
  {
   "cell_type": "code",
   "execution_count": null,
   "metadata": {},
   "outputs": [],
   "source": []
  }
 ],
 "metadata": {
  "kernelspec": {
   "display_name": "Python 3",
   "language": "python",
   "name": "python3"
  },
  "language_info": {
   "codemirror_mode": {
    "name": "ipython",
    "version": 3
   },
   "file_extension": ".py",
   "mimetype": "text/x-python",
   "name": "python",
   "nbconvert_exporter": "python",
   "pygments_lexer": "ipython3",
   "version": "3.8.2"
  }
 },
 "nbformat": 4,
 "nbformat_minor": 4
}
